{
 "cells": [
  {
   "cell_type": "markdown",
   "metadata": {},
   "source": [
    "This notebook extracts the lab data and reformat them to have unified denomination. Then extract labels of interest: death and length of stay.\n",
    "\n",
    "This code relies on [`MIMIC_extract`](https://github.com/MLforHealth/MIMIC_Extract) matching dictionary and the [MIMIC III](https://physionet.org/content/mimiciii/1.4/) data.\n",
    "To begin, download the data and update the following variable `PATH`."
   ]
  },
  {
   "cell_type": "code",
   "execution_count": 1,
   "metadata": {},
   "outputs": [],
   "source": [
    "PATH = '/home/vincent/Desktop/Cambridge/Data/Mimic/' #'/home/vjemj2/rds/hpc-work/data/mimic/'"
   ]
  },
  {
   "cell_type": "code",
   "execution_count": 2,
   "metadata": {},
   "outputs": [],
   "source": [
    "import numpy as np\n",
    "import pandas as pd"
   ]
  },
  {
   "cell_type": "markdown",
   "metadata": {},
   "source": [
    "# Lab data"
   ]
  },
  {
   "cell_type": "markdown",
   "metadata": {},
   "source": [
    "### Mapping labs variables"
   ]
  },
  {
   "cell_type": "code",
   "execution_count": 3,
   "metadata": {},
   "outputs": [],
   "source": [
    "mapping = pd.read_csv(PATH + 'itemid_to_variable_map.csv', index_col = 'ITEMID', dtype = {'ITEMID': int})"
   ]
  },
  {
   "cell_type": "code",
   "execution_count": 4,
   "metadata": {},
   "outputs": [
    {
     "data": {
      "text/html": [
       "<div>\n",
       "<style scoped>\n",
       "    .dataframe tbody tr th:only-of-type {\n",
       "        vertical-align: middle;\n",
       "    }\n",
       "\n",
       "    .dataframe tbody tr th {\n",
       "        vertical-align: top;\n",
       "    }\n",
       "\n",
       "    .dataframe thead th {\n",
       "        text-align: right;\n",
       "    }\n",
       "</style>\n",
       "<table border=\"1\" class=\"dataframe\">\n",
       "  <thead>\n",
       "    <tr style=\"text-align: right;\">\n",
       "      <th></th>\n",
       "      <th>LEVEL2</th>\n",
       "      <th>LEVEL1</th>\n",
       "      <th>ALTERNATIVE</th>\n",
       "      <th>STATUS</th>\n",
       "      <th>STATUS NOTE</th>\n",
       "      <th>MIMIC LABEL</th>\n",
       "      <th>UNITNAME</th>\n",
       "      <th>LINKSTO</th>\n",
       "      <th>COUNT</th>\n",
       "      <th>CATEGORY</th>\n",
       "      <th>CONCEPTID</th>\n",
       "      <th>FLUID</th>\n",
       "      <th>LOINC_CODE</th>\n",
       "      <th>DBSOURCE</th>\n",
       "      <th>Unnamed: 15</th>\n",
       "      <th>PARAM_TYPE</th>\n",
       "      <th>NOTE</th>\n",
       "    </tr>\n",
       "    <tr>\n",
       "      <th>ITEMID</th>\n",
       "      <th></th>\n",
       "      <th></th>\n",
       "      <th></th>\n",
       "      <th></th>\n",
       "      <th></th>\n",
       "      <th></th>\n",
       "      <th></th>\n",
       "      <th></th>\n",
       "      <th></th>\n",
       "      <th></th>\n",
       "      <th></th>\n",
       "      <th></th>\n",
       "      <th></th>\n",
       "      <th></th>\n",
       "      <th></th>\n",
       "      <th></th>\n",
       "      <th></th>\n",
       "    </tr>\n",
       "  </thead>\n",
       "  <tbody>\n",
       "    <tr>\n",
       "      <th>50861</th>\n",
       "      <td>Alanine aminotransferase</td>\n",
       "      <td>Alanine aminotransferase</td>\n",
       "      <td>ALT</td>\n",
       "      <td>ready</td>\n",
       "      <td>NaN</td>\n",
       "      <td>ALANINE AMINOTRANSFERASE (ALT)</td>\n",
       "      <td>NaN</td>\n",
       "      <td>labevents</td>\n",
       "      <td>219475.0</td>\n",
       "      <td>CHEMISTRY</td>\n",
       "      <td>NaN</td>\n",
       "      <td>BLOOD</td>\n",
       "      <td></td>\n",
       "      <td>NaN</td>\n",
       "      <td>NaN</td>\n",
       "      <td>NaN</td>\n",
       "      <td>NaN</td>\n",
       "    </tr>\n",
       "    <tr>\n",
       "      <th>769</th>\n",
       "      <td>Alanine aminotransferase</td>\n",
       "      <td>Alanine aminotransferase</td>\n",
       "      <td>ALT</td>\n",
       "      <td>ready</td>\n",
       "      <td>NaN</td>\n",
       "      <td>ALT</td>\n",
       "      <td>NaN</td>\n",
       "      <td>chartevents</td>\n",
       "      <td>41594.0</td>\n",
       "      <td>Enzymes</td>\n",
       "      <td>NaN</td>\n",
       "      <td>NaN</td>\n",
       "      <td>NaN</td>\n",
       "      <td>carevue</td>\n",
       "      <td>NaN</td>\n",
       "      <td>NaN</td>\n",
       "      <td>NaN</td>\n",
       "    </tr>\n",
       "    <tr>\n",
       "      <th>220644</th>\n",
       "      <td>Alanine aminotransferase</td>\n",
       "      <td>Alanine aminotransferase</td>\n",
       "      <td>ALT</td>\n",
       "      <td>ready</td>\n",
       "      <td>NaN</td>\n",
       "      <td>ALT</td>\n",
       "      <td>None</td>\n",
       "      <td>chartevents</td>\n",
       "      <td>37625.0</td>\n",
       "      <td>Labs</td>\n",
       "      <td>NaN</td>\n",
       "      <td>NaN</td>\n",
       "      <td>NaN</td>\n",
       "      <td>metavision</td>\n",
       "      <td>NaN</td>\n",
       "      <td>Numeric</td>\n",
       "      <td>NaN</td>\n",
       "    </tr>\n",
       "    <tr>\n",
       "      <th>50862</th>\n",
       "      <td>Albumin</td>\n",
       "      <td>Albumin</td>\n",
       "      <td>NaN</td>\n",
       "      <td>ready</td>\n",
       "      <td>NaN</td>\n",
       "      <td>ALBUMIN</td>\n",
       "      <td>NaN</td>\n",
       "      <td>labevents</td>\n",
       "      <td>146697.0</td>\n",
       "      <td>CHEMISTRY</td>\n",
       "      <td>NaN</td>\n",
       "      <td>BLOOD</td>\n",
       "      <td>1751-7</td>\n",
       "      <td>NaN</td>\n",
       "      <td>NaN</td>\n",
       "      <td>NaN</td>\n",
       "      <td>NaN</td>\n",
       "    </tr>\n",
       "    <tr>\n",
       "      <th>772</th>\n",
       "      <td>Albumin</td>\n",
       "      <td>Albumin</td>\n",
       "      <td>NaN</td>\n",
       "      <td>ready</td>\n",
       "      <td>NaN</td>\n",
       "      <td>Albumin (&gt;3.2)</td>\n",
       "      <td>NaN</td>\n",
       "      <td>chartevents</td>\n",
       "      <td>31022.0</td>\n",
       "      <td>Chemistry</td>\n",
       "      <td>NaN</td>\n",
       "      <td>NaN</td>\n",
       "      <td>NaN</td>\n",
       "      <td>carevue</td>\n",
       "      <td>NaN</td>\n",
       "      <td>NaN</td>\n",
       "      <td>NaN</td>\n",
       "    </tr>\n",
       "    <tr>\n",
       "      <th>...</th>\n",
       "      <td>...</td>\n",
       "      <td>...</td>\n",
       "      <td>...</td>\n",
       "      <td>...</td>\n",
       "      <td>...</td>\n",
       "      <td>...</td>\n",
       "      <td>...</td>\n",
       "      <td>...</td>\n",
       "      <td>...</td>\n",
       "      <td>...</td>\n",
       "      <td>...</td>\n",
       "      <td>...</td>\n",
       "      <td>...</td>\n",
       "      <td>...</td>\n",
       "      <td>...</td>\n",
       "      <td>...</td>\n",
       "      <td>...</td>\n",
       "    </tr>\n",
       "    <tr>\n",
       "      <th>226565</th>\n",
       "      <td>Urine output</td>\n",
       "      <td>Urine output</td>\n",
       "      <td>NaN</td>\n",
       "      <td>ready</td>\n",
       "      <td>NaN</td>\n",
       "      <td>L Nephrostomy</td>\n",
       "      <td>NaN</td>\n",
       "      <td>outputevents</td>\n",
       "      <td>NaN</td>\n",
       "      <td>NaN</td>\n",
       "      <td>NaN</td>\n",
       "      <td>NaN</td>\n",
       "      <td>NaN</td>\n",
       "      <td>metavision</td>\n",
       "      <td>NaN</td>\n",
       "      <td>NaN</td>\n",
       "      <td>NaN</td>\n",
       "    </tr>\n",
       "    <tr>\n",
       "      <th>226567</th>\n",
       "      <td>Urine output</td>\n",
       "      <td>Urine output</td>\n",
       "      <td>NaN</td>\n",
       "      <td>ready</td>\n",
       "      <td>NaN</td>\n",
       "      <td>Straight Cath</td>\n",
       "      <td>NaN</td>\n",
       "      <td>outputevents</td>\n",
       "      <td>NaN</td>\n",
       "      <td>NaN</td>\n",
       "      <td>NaN</td>\n",
       "      <td>NaN</td>\n",
       "      <td>NaN</td>\n",
       "      <td>metavision</td>\n",
       "      <td>NaN</td>\n",
       "      <td>NaN</td>\n",
       "      <td>NaN</td>\n",
       "    </tr>\n",
       "    <tr>\n",
       "      <th>226584</th>\n",
       "      <td>Urine output</td>\n",
       "      <td>Urine output</td>\n",
       "      <td>NaN</td>\n",
       "      <td>ready</td>\n",
       "      <td>NaN</td>\n",
       "      <td>Ileoconduit</td>\n",
       "      <td>NaN</td>\n",
       "      <td>outputevents</td>\n",
       "      <td>NaN</td>\n",
       "      <td>NaN</td>\n",
       "      <td>NaN</td>\n",
       "      <td>NaN</td>\n",
       "      <td>NaN</td>\n",
       "      <td>metavision</td>\n",
       "      <td>NaN</td>\n",
       "      <td>NaN</td>\n",
       "      <td>NaN</td>\n",
       "    </tr>\n",
       "    <tr>\n",
       "      <th>226627</th>\n",
       "      <td>Urine output</td>\n",
       "      <td>Urine output</td>\n",
       "      <td>OR Urine</td>\n",
       "      <td>ready</td>\n",
       "      <td>NaN</td>\n",
       "      <td>OR Urine</td>\n",
       "      <td>mL</td>\n",
       "      <td>outputevents</td>\n",
       "      <td>5928.0</td>\n",
       "      <td>Output</td>\n",
       "      <td>NaN</td>\n",
       "      <td>NaN</td>\n",
       "      <td>NaN</td>\n",
       "      <td>metavision</td>\n",
       "      <td>NaN</td>\n",
       "      <td>NaN</td>\n",
       "      <td>NaN</td>\n",
       "    </tr>\n",
       "    <tr>\n",
       "      <th>227510</th>\n",
       "      <td>Urine output</td>\n",
       "      <td>Urine output</td>\n",
       "      <td>NaN</td>\n",
       "      <td>ready</td>\n",
       "      <td>NaN</td>\n",
       "      <td>TF Residual</td>\n",
       "      <td>NaN</td>\n",
       "      <td>outputevents</td>\n",
       "      <td>NaN</td>\n",
       "      <td>NaN</td>\n",
       "      <td>NaN</td>\n",
       "      <td>NaN</td>\n",
       "      <td>NaN</td>\n",
       "      <td>metavision</td>\n",
       "      <td>NaN</td>\n",
       "      <td>NaN</td>\n",
       "      <td>NaN</td>\n",
       "    </tr>\n",
       "  </tbody>\n",
       "</table>\n",
       "<p>13251 rows × 17 columns</p>\n",
       "</div>"
      ],
      "text/plain": [
       "                          LEVEL2                    LEVEL1 ALTERNATIVE STATUS  \\\n",
       "ITEMID                                                                          \n",
       "50861   Alanine aminotransferase  Alanine aminotransferase         ALT  ready   \n",
       "769     Alanine aminotransferase  Alanine aminotransferase         ALT  ready   \n",
       "220644  Alanine aminotransferase  Alanine aminotransferase         ALT  ready   \n",
       "50862                    Albumin                   Albumin         NaN  ready   \n",
       "772                      Albumin                   Albumin         NaN  ready   \n",
       "...                          ...                       ...         ...    ...   \n",
       "226565              Urine output              Urine output         NaN  ready   \n",
       "226567              Urine output              Urine output         NaN  ready   \n",
       "226584              Urine output              Urine output         NaN  ready   \n",
       "226627              Urine output              Urine output    OR Urine  ready   \n",
       "227510              Urine output              Urine output         NaN  ready   \n",
       "\n",
       "       STATUS NOTE                     MIMIC LABEL UNITNAME       LINKSTO  \\\n",
       "ITEMID                                                                      \n",
       "50861          NaN  ALANINE AMINOTRANSFERASE (ALT)      NaN     labevents   \n",
       "769            NaN                             ALT      NaN   chartevents   \n",
       "220644         NaN                             ALT     None   chartevents   \n",
       "50862          NaN                         ALBUMIN      NaN     labevents   \n",
       "772            NaN                  Albumin (>3.2)      NaN   chartevents   \n",
       "...            ...                             ...      ...           ...   \n",
       "226565         NaN                   L Nephrostomy      NaN  outputevents   \n",
       "226567         NaN                   Straight Cath      NaN  outputevents   \n",
       "226584         NaN                     Ileoconduit      NaN  outputevents   \n",
       "226627         NaN                        OR Urine       mL  outputevents   \n",
       "227510         NaN                     TF Residual      NaN  outputevents   \n",
       "\n",
       "           COUNT   CATEGORY  CONCEPTID  FLUID LOINC_CODE    DBSOURCE  \\\n",
       "ITEMID                                                                 \n",
       "50861   219475.0  CHEMISTRY        NaN  BLOOD                    NaN   \n",
       "769      41594.0    Enzymes        NaN    NaN        NaN     carevue   \n",
       "220644   37625.0       Labs        NaN    NaN        NaN  metavision   \n",
       "50862   146697.0  CHEMISTRY        NaN  BLOOD     1751-7         NaN   \n",
       "772      31022.0  Chemistry        NaN    NaN        NaN     carevue   \n",
       "...          ...        ...        ...    ...        ...         ...   \n",
       "226565       NaN        NaN        NaN    NaN        NaN  metavision   \n",
       "226567       NaN        NaN        NaN    NaN        NaN  metavision   \n",
       "226584       NaN        NaN        NaN    NaN        NaN  metavision   \n",
       "226627    5928.0     Output        NaN    NaN        NaN  metavision   \n",
       "227510       NaN        NaN        NaN    NaN        NaN  metavision   \n",
       "\n",
       "        Unnamed: 15 PARAM_TYPE  NOTE  \n",
       "ITEMID                                \n",
       "50861           NaN        NaN   NaN  \n",
       "769             NaN        NaN   NaN  \n",
       "220644          NaN    Numeric   NaN  \n",
       "50862           NaN        NaN   NaN  \n",
       "772             NaN        NaN   NaN  \n",
       "...             ...        ...   ...  \n",
       "226565          NaN        NaN   NaN  \n",
       "226567          NaN        NaN   NaN  \n",
       "226584          NaN        NaN   NaN  \n",
       "226627          NaN        NaN   NaN  \n",
       "227510          NaN        NaN   NaN  \n",
       "\n",
       "[13251 rows x 17 columns]"
      ]
     },
     "execution_count": 4,
     "metadata": {},
     "output_type": "execute_result"
    }
   ],
   "source": [
    "mapping"
   ]
  },
  {
   "cell_type": "code",
   "execution_count": 5,
   "metadata": {},
   "outputs": [],
   "source": [
    "mapping = pd.read_csv(PATH + 'itemid_to_variable_map.csv', index_col = 'ITEMID', dtype = {'ITEMID': int})\n",
    "mapping = mapping[(mapping['LEVEL2'] != '') &\\\n",
    "                  (mapping['COUNT'] > 0) &\\\n",
    "                  (mapping['STATUS'] == 'ready')\n",
    "                 ]"
   ]
  },
  {
   "cell_type": "code",
   "execution_count": 6,
   "metadata": {},
   "outputs": [
    {
     "data": {
      "text/html": [
       "<div>\n",
       "<style scoped>\n",
       "    .dataframe tbody tr th:only-of-type {\n",
       "        vertical-align: middle;\n",
       "    }\n",
       "\n",
       "    .dataframe tbody tr th {\n",
       "        vertical-align: top;\n",
       "    }\n",
       "\n",
       "    .dataframe thead th {\n",
       "        text-align: right;\n",
       "    }\n",
       "</style>\n",
       "<table border=\"1\" class=\"dataframe\">\n",
       "  <thead>\n",
       "    <tr style=\"text-align: right;\">\n",
       "      <th></th>\n",
       "      <th>LEVEL2</th>\n",
       "      <th>LEVEL1</th>\n",
       "      <th>ALTERNATIVE</th>\n",
       "      <th>STATUS</th>\n",
       "      <th>STATUS NOTE</th>\n",
       "      <th>MIMIC LABEL</th>\n",
       "      <th>UNITNAME</th>\n",
       "      <th>LINKSTO</th>\n",
       "      <th>COUNT</th>\n",
       "      <th>CATEGORY</th>\n",
       "      <th>CONCEPTID</th>\n",
       "      <th>FLUID</th>\n",
       "      <th>LOINC_CODE</th>\n",
       "      <th>DBSOURCE</th>\n",
       "      <th>Unnamed: 15</th>\n",
       "      <th>PARAM_TYPE</th>\n",
       "      <th>NOTE</th>\n",
       "    </tr>\n",
       "    <tr>\n",
       "      <th>ITEMID</th>\n",
       "      <th></th>\n",
       "      <th></th>\n",
       "      <th></th>\n",
       "      <th></th>\n",
       "      <th></th>\n",
       "      <th></th>\n",
       "      <th></th>\n",
       "      <th></th>\n",
       "      <th></th>\n",
       "      <th></th>\n",
       "      <th></th>\n",
       "      <th></th>\n",
       "      <th></th>\n",
       "      <th></th>\n",
       "      <th></th>\n",
       "      <th></th>\n",
       "      <th></th>\n",
       "    </tr>\n",
       "  </thead>\n",
       "  <tbody>\n",
       "    <tr>\n",
       "      <th>50861</th>\n",
       "      <td>Alanine aminotransferase</td>\n",
       "      <td>Alanine aminotransferase</td>\n",
       "      <td>ALT</td>\n",
       "      <td>ready</td>\n",
       "      <td>NaN</td>\n",
       "      <td>ALANINE AMINOTRANSFERASE (ALT)</td>\n",
       "      <td>NaN</td>\n",
       "      <td>labevents</td>\n",
       "      <td>219475.0</td>\n",
       "      <td>CHEMISTRY</td>\n",
       "      <td>NaN</td>\n",
       "      <td>BLOOD</td>\n",
       "      <td></td>\n",
       "      <td>NaN</td>\n",
       "      <td>NaN</td>\n",
       "      <td>NaN</td>\n",
       "      <td>NaN</td>\n",
       "    </tr>\n",
       "    <tr>\n",
       "      <th>769</th>\n",
       "      <td>Alanine aminotransferase</td>\n",
       "      <td>Alanine aminotransferase</td>\n",
       "      <td>ALT</td>\n",
       "      <td>ready</td>\n",
       "      <td>NaN</td>\n",
       "      <td>ALT</td>\n",
       "      <td>NaN</td>\n",
       "      <td>chartevents</td>\n",
       "      <td>41594.0</td>\n",
       "      <td>Enzymes</td>\n",
       "      <td>NaN</td>\n",
       "      <td>NaN</td>\n",
       "      <td>NaN</td>\n",
       "      <td>carevue</td>\n",
       "      <td>NaN</td>\n",
       "      <td>NaN</td>\n",
       "      <td>NaN</td>\n",
       "    </tr>\n",
       "    <tr>\n",
       "      <th>220644</th>\n",
       "      <td>Alanine aminotransferase</td>\n",
       "      <td>Alanine aminotransferase</td>\n",
       "      <td>ALT</td>\n",
       "      <td>ready</td>\n",
       "      <td>NaN</td>\n",
       "      <td>ALT</td>\n",
       "      <td>None</td>\n",
       "      <td>chartevents</td>\n",
       "      <td>37625.0</td>\n",
       "      <td>Labs</td>\n",
       "      <td>NaN</td>\n",
       "      <td>NaN</td>\n",
       "      <td>NaN</td>\n",
       "      <td>metavision</td>\n",
       "      <td>NaN</td>\n",
       "      <td>Numeric</td>\n",
       "      <td>NaN</td>\n",
       "    </tr>\n",
       "    <tr>\n",
       "      <th>50862</th>\n",
       "      <td>Albumin</td>\n",
       "      <td>Albumin</td>\n",
       "      <td>NaN</td>\n",
       "      <td>ready</td>\n",
       "      <td>NaN</td>\n",
       "      <td>ALBUMIN</td>\n",
       "      <td>NaN</td>\n",
       "      <td>labevents</td>\n",
       "      <td>146697.0</td>\n",
       "      <td>CHEMISTRY</td>\n",
       "      <td>NaN</td>\n",
       "      <td>BLOOD</td>\n",
       "      <td>1751-7</td>\n",
       "      <td>NaN</td>\n",
       "      <td>NaN</td>\n",
       "      <td>NaN</td>\n",
       "      <td>NaN</td>\n",
       "    </tr>\n",
       "    <tr>\n",
       "      <th>772</th>\n",
       "      <td>Albumin</td>\n",
       "      <td>Albumin</td>\n",
       "      <td>NaN</td>\n",
       "      <td>ready</td>\n",
       "      <td>NaN</td>\n",
       "      <td>Albumin (&gt;3.2)</td>\n",
       "      <td>NaN</td>\n",
       "      <td>chartevents</td>\n",
       "      <td>31022.0</td>\n",
       "      <td>Chemistry</td>\n",
       "      <td>NaN</td>\n",
       "      <td>NaN</td>\n",
       "      <td>NaN</td>\n",
       "      <td>carevue</td>\n",
       "      <td>NaN</td>\n",
       "      <td>NaN</td>\n",
       "      <td>NaN</td>\n",
       "    </tr>\n",
       "  </tbody>\n",
       "</table>\n",
       "</div>"
      ],
      "text/plain": [
       "                          LEVEL2                    LEVEL1 ALTERNATIVE STATUS  \\\n",
       "ITEMID                                                                          \n",
       "50861   Alanine aminotransferase  Alanine aminotransferase         ALT  ready   \n",
       "769     Alanine aminotransferase  Alanine aminotransferase         ALT  ready   \n",
       "220644  Alanine aminotransferase  Alanine aminotransferase         ALT  ready   \n",
       "50862                    Albumin                   Albumin         NaN  ready   \n",
       "772                      Albumin                   Albumin         NaN  ready   \n",
       "\n",
       "       STATUS NOTE                     MIMIC LABEL UNITNAME      LINKSTO  \\\n",
       "ITEMID                                                                     \n",
       "50861          NaN  ALANINE AMINOTRANSFERASE (ALT)      NaN    labevents   \n",
       "769            NaN                             ALT      NaN  chartevents   \n",
       "220644         NaN                             ALT     None  chartevents   \n",
       "50862          NaN                         ALBUMIN      NaN    labevents   \n",
       "772            NaN                  Albumin (>3.2)      NaN  chartevents   \n",
       "\n",
       "           COUNT   CATEGORY  CONCEPTID  FLUID LOINC_CODE    DBSOURCE  \\\n",
       "ITEMID                                                                 \n",
       "50861   219475.0  CHEMISTRY        NaN  BLOOD                    NaN   \n",
       "769      41594.0    Enzymes        NaN    NaN        NaN     carevue   \n",
       "220644   37625.0       Labs        NaN    NaN        NaN  metavision   \n",
       "50862   146697.0  CHEMISTRY        NaN  BLOOD     1751-7         NaN   \n",
       "772      31022.0  Chemistry        NaN    NaN        NaN     carevue   \n",
       "\n",
       "        Unnamed: 15 PARAM_TYPE  NOTE  \n",
       "ITEMID                                \n",
       "50861           NaN        NaN   NaN  \n",
       "769             NaN        NaN   NaN  \n",
       "220644          NaN    Numeric   NaN  \n",
       "50862           NaN        NaN   NaN  \n",
       "772             NaN        NaN   NaN  "
      ]
     },
     "execution_count": 6,
     "metadata": {},
     "output_type": "execute_result"
    }
   ],
   "source": [
    "mapping.head()"
   ]
  },
  {
   "cell_type": "markdown",
   "metadata": {},
   "source": [
    "### Extract lab data"
   ]
  },
  {
   "cell_type": "code",
   "execution_count": 7,
   "metadata": {},
   "outputs": [
    {
     "ename": "KeyboardInterrupt",
     "evalue": "",
     "output_type": "error",
     "traceback": [
      "\u001b[0;31m---------------------------------------------------------------------------\u001b[0m",
      "\u001b[0;31mKeyboardInterrupt\u001b[0m                         Traceback (most recent call last)",
      "\u001b[0;32m/tmp/ipykernel_28448/3640927458.py\u001b[0m in \u001b[0;36m<module>\u001b[0;34m\u001b[0m\n\u001b[0;32m----> 1\u001b[0;31m \u001b[0mlabs\u001b[0m \u001b[0;34m=\u001b[0m \u001b[0mpd\u001b[0m\u001b[0;34m.\u001b[0m\u001b[0mread_csv\u001b[0m\u001b[0;34m(\u001b[0m\u001b[0mPATH\u001b[0m \u001b[0;34m+\u001b[0m \u001b[0;34m'LABEVENTS.csv'\u001b[0m\u001b[0;34m,\u001b[0m \u001b[0mparse_dates\u001b[0m \u001b[0;34m=\u001b[0m \u001b[0;34m[\u001b[0m\u001b[0;34m'CHARTTIME'\u001b[0m\u001b[0;34m]\u001b[0m\u001b[0;34m)\u001b[0m\u001b[0;34m\u001b[0m\u001b[0;34m\u001b[0m\u001b[0m\n\u001b[0m",
      "\u001b[0;32m~/miniconda3/envs/Jupyter/lib/python3.9/site-packages/pandas/util/_decorators.py\u001b[0m in \u001b[0;36mwrapper\u001b[0;34m(*args, **kwargs)\u001b[0m\n\u001b[1;32m    309\u001b[0m                     \u001b[0mstacklevel\u001b[0m\u001b[0;34m=\u001b[0m\u001b[0mstacklevel\u001b[0m\u001b[0;34m,\u001b[0m\u001b[0;34m\u001b[0m\u001b[0;34m\u001b[0m\u001b[0m\n\u001b[1;32m    310\u001b[0m                 )\n\u001b[0;32m--> 311\u001b[0;31m             \u001b[0;32mreturn\u001b[0m \u001b[0mfunc\u001b[0m\u001b[0;34m(\u001b[0m\u001b[0;34m*\u001b[0m\u001b[0margs\u001b[0m\u001b[0;34m,\u001b[0m \u001b[0;34m**\u001b[0m\u001b[0mkwargs\u001b[0m\u001b[0;34m)\u001b[0m\u001b[0;34m\u001b[0m\u001b[0;34m\u001b[0m\u001b[0m\n\u001b[0m\u001b[1;32m    312\u001b[0m \u001b[0;34m\u001b[0m\u001b[0m\n\u001b[1;32m    313\u001b[0m         \u001b[0;32mreturn\u001b[0m \u001b[0mwrapper\u001b[0m\u001b[0;34m\u001b[0m\u001b[0;34m\u001b[0m\u001b[0m\n",
      "\u001b[0;32m~/miniconda3/envs/Jupyter/lib/python3.9/site-packages/pandas/io/parsers/readers.py\u001b[0m in \u001b[0;36mread_csv\u001b[0;34m(filepath_or_buffer, sep, delimiter, header, names, index_col, usecols, squeeze, prefix, mangle_dupe_cols, dtype, engine, converters, true_values, false_values, skipinitialspace, skiprows, skipfooter, nrows, na_values, keep_default_na, na_filter, verbose, skip_blank_lines, parse_dates, infer_datetime_format, keep_date_col, date_parser, dayfirst, cache_dates, iterator, chunksize, compression, thousands, decimal, lineterminator, quotechar, quoting, doublequote, escapechar, comment, encoding, encoding_errors, dialect, error_bad_lines, warn_bad_lines, on_bad_lines, delim_whitespace, low_memory, memory_map, float_precision, storage_options)\u001b[0m\n\u001b[1;32m    584\u001b[0m     \u001b[0mkwds\u001b[0m\u001b[0;34m.\u001b[0m\u001b[0mupdate\u001b[0m\u001b[0;34m(\u001b[0m\u001b[0mkwds_defaults\u001b[0m\u001b[0;34m)\u001b[0m\u001b[0;34m\u001b[0m\u001b[0;34m\u001b[0m\u001b[0m\n\u001b[1;32m    585\u001b[0m \u001b[0;34m\u001b[0m\u001b[0m\n\u001b[0;32m--> 586\u001b[0;31m     \u001b[0;32mreturn\u001b[0m \u001b[0m_read\u001b[0m\u001b[0;34m(\u001b[0m\u001b[0mfilepath_or_buffer\u001b[0m\u001b[0;34m,\u001b[0m \u001b[0mkwds\u001b[0m\u001b[0;34m)\u001b[0m\u001b[0;34m\u001b[0m\u001b[0;34m\u001b[0m\u001b[0m\n\u001b[0m\u001b[1;32m    587\u001b[0m \u001b[0;34m\u001b[0m\u001b[0m\n\u001b[1;32m    588\u001b[0m \u001b[0;34m\u001b[0m\u001b[0m\n",
      "\u001b[0;32m~/miniconda3/envs/Jupyter/lib/python3.9/site-packages/pandas/io/parsers/readers.py\u001b[0m in \u001b[0;36m_read\u001b[0;34m(filepath_or_buffer, kwds)\u001b[0m\n\u001b[1;32m    486\u001b[0m \u001b[0;34m\u001b[0m\u001b[0m\n\u001b[1;32m    487\u001b[0m     \u001b[0;32mwith\u001b[0m \u001b[0mparser\u001b[0m\u001b[0;34m:\u001b[0m\u001b[0;34m\u001b[0m\u001b[0;34m\u001b[0m\u001b[0m\n\u001b[0;32m--> 488\u001b[0;31m         \u001b[0;32mreturn\u001b[0m \u001b[0mparser\u001b[0m\u001b[0;34m.\u001b[0m\u001b[0mread\u001b[0m\u001b[0;34m(\u001b[0m\u001b[0mnrows\u001b[0m\u001b[0;34m)\u001b[0m\u001b[0;34m\u001b[0m\u001b[0;34m\u001b[0m\u001b[0m\n\u001b[0m\u001b[1;32m    489\u001b[0m \u001b[0;34m\u001b[0m\u001b[0m\n\u001b[1;32m    490\u001b[0m \u001b[0;34m\u001b[0m\u001b[0m\n",
      "\u001b[0;32m~/miniconda3/envs/Jupyter/lib/python3.9/site-packages/pandas/io/parsers/readers.py\u001b[0m in \u001b[0;36mread\u001b[0;34m(self, nrows)\u001b[0m\n\u001b[1;32m   1045\u001b[0m     \u001b[0;32mdef\u001b[0m \u001b[0mread\u001b[0m\u001b[0;34m(\u001b[0m\u001b[0mself\u001b[0m\u001b[0;34m,\u001b[0m \u001b[0mnrows\u001b[0m\u001b[0;34m=\u001b[0m\u001b[0;32mNone\u001b[0m\u001b[0;34m)\u001b[0m\u001b[0;34m:\u001b[0m\u001b[0;34m\u001b[0m\u001b[0;34m\u001b[0m\u001b[0m\n\u001b[1;32m   1046\u001b[0m         \u001b[0mnrows\u001b[0m \u001b[0;34m=\u001b[0m \u001b[0mvalidate_integer\u001b[0m\u001b[0;34m(\u001b[0m\u001b[0;34m\"nrows\"\u001b[0m\u001b[0;34m,\u001b[0m \u001b[0mnrows\u001b[0m\u001b[0;34m)\u001b[0m\u001b[0;34m\u001b[0m\u001b[0;34m\u001b[0m\u001b[0m\n\u001b[0;32m-> 1047\u001b[0;31m         \u001b[0mindex\u001b[0m\u001b[0;34m,\u001b[0m \u001b[0mcolumns\u001b[0m\u001b[0;34m,\u001b[0m \u001b[0mcol_dict\u001b[0m \u001b[0;34m=\u001b[0m \u001b[0mself\u001b[0m\u001b[0;34m.\u001b[0m\u001b[0m_engine\u001b[0m\u001b[0;34m.\u001b[0m\u001b[0mread\u001b[0m\u001b[0;34m(\u001b[0m\u001b[0mnrows\u001b[0m\u001b[0;34m)\u001b[0m\u001b[0;34m\u001b[0m\u001b[0;34m\u001b[0m\u001b[0m\n\u001b[0m\u001b[1;32m   1048\u001b[0m \u001b[0;34m\u001b[0m\u001b[0m\n\u001b[1;32m   1049\u001b[0m         \u001b[0;32mif\u001b[0m \u001b[0mindex\u001b[0m \u001b[0;32mis\u001b[0m \u001b[0;32mNone\u001b[0m\u001b[0;34m:\u001b[0m\u001b[0;34m\u001b[0m\u001b[0;34m\u001b[0m\u001b[0m\n",
      "\u001b[0;32m~/miniconda3/envs/Jupyter/lib/python3.9/site-packages/pandas/io/parsers/c_parser_wrapper.py\u001b[0m in \u001b[0;36mread\u001b[0;34m(self, nrows)\u001b[0m\n\u001b[1;32m    223\u001b[0m                 \u001b[0mchunks\u001b[0m \u001b[0;34m=\u001b[0m \u001b[0mself\u001b[0m\u001b[0;34m.\u001b[0m\u001b[0m_reader\u001b[0m\u001b[0;34m.\u001b[0m\u001b[0mread_low_memory\u001b[0m\u001b[0;34m(\u001b[0m\u001b[0mnrows\u001b[0m\u001b[0;34m)\u001b[0m\u001b[0;34m\u001b[0m\u001b[0;34m\u001b[0m\u001b[0m\n\u001b[1;32m    224\u001b[0m                 \u001b[0;31m# destructive to chunks\u001b[0m\u001b[0;34m\u001b[0m\u001b[0;34m\u001b[0m\u001b[0m\n\u001b[0;32m--> 225\u001b[0;31m                 \u001b[0mdata\u001b[0m \u001b[0;34m=\u001b[0m \u001b[0m_concatenate_chunks\u001b[0m\u001b[0;34m(\u001b[0m\u001b[0mchunks\u001b[0m\u001b[0;34m)\u001b[0m\u001b[0;34m\u001b[0m\u001b[0;34m\u001b[0m\u001b[0m\n\u001b[0m\u001b[1;32m    226\u001b[0m \u001b[0;34m\u001b[0m\u001b[0m\n\u001b[1;32m    227\u001b[0m             \u001b[0;32melse\u001b[0m\u001b[0;34m:\u001b[0m\u001b[0;34m\u001b[0m\u001b[0;34m\u001b[0m\u001b[0m\n",
      "\u001b[0;32m~/miniconda3/envs/Jupyter/lib/python3.9/site-packages/pandas/io/parsers/c_parser_wrapper.py\u001b[0m in \u001b[0;36m_concatenate_chunks\u001b[0;34m(chunks)\u001b[0m\n\u001b[1;32m    354\u001b[0m         \u001b[0marrs\u001b[0m \u001b[0;34m=\u001b[0m \u001b[0;34m[\u001b[0m\u001b[0mchunk\u001b[0m\u001b[0;34m.\u001b[0m\u001b[0mpop\u001b[0m\u001b[0;34m(\u001b[0m\u001b[0mname\u001b[0m\u001b[0;34m)\u001b[0m \u001b[0;32mfor\u001b[0m \u001b[0mchunk\u001b[0m \u001b[0;32min\u001b[0m \u001b[0mchunks\u001b[0m\u001b[0;34m]\u001b[0m\u001b[0;34m\u001b[0m\u001b[0;34m\u001b[0m\u001b[0m\n\u001b[1;32m    355\u001b[0m         \u001b[0;31m# Check each arr for consistent types.\u001b[0m\u001b[0;34m\u001b[0m\u001b[0;34m\u001b[0m\u001b[0m\n\u001b[0;32m--> 356\u001b[0;31m         \u001b[0mdtypes\u001b[0m \u001b[0;34m=\u001b[0m \u001b[0;34m{\u001b[0m\u001b[0ma\u001b[0m\u001b[0;34m.\u001b[0m\u001b[0mdtype\u001b[0m \u001b[0;32mfor\u001b[0m \u001b[0ma\u001b[0m \u001b[0;32min\u001b[0m \u001b[0marrs\u001b[0m\u001b[0;34m}\u001b[0m\u001b[0;34m\u001b[0m\u001b[0;34m\u001b[0m\u001b[0m\n\u001b[0m\u001b[1;32m    357\u001b[0m         \u001b[0;31m# TODO: shouldn't we exclude all EA dtypes here?\u001b[0m\u001b[0;34m\u001b[0m\u001b[0;34m\u001b[0m\u001b[0m\n\u001b[1;32m    358\u001b[0m         \u001b[0mnumpy_dtypes\u001b[0m \u001b[0;34m=\u001b[0m \u001b[0;34m{\u001b[0m\u001b[0mx\u001b[0m \u001b[0;32mfor\u001b[0m \u001b[0mx\u001b[0m \u001b[0;32min\u001b[0m \u001b[0mdtypes\u001b[0m \u001b[0;32mif\u001b[0m \u001b[0;32mnot\u001b[0m \u001b[0mis_categorical_dtype\u001b[0m\u001b[0;34m(\u001b[0m\u001b[0mx\u001b[0m\u001b[0;34m)\u001b[0m\u001b[0;34m}\u001b[0m\u001b[0;34m\u001b[0m\u001b[0;34m\u001b[0m\u001b[0m\n",
      "\u001b[0;31mKeyboardInterrupt\u001b[0m: "
     ]
    }
   ],
   "source": [
    "labs = pd.read_csv(PATH + 'LABEVENTS.csv', parse_dates = ['CHARTTIME'])"
   ]
  },
  {
   "cell_type": "code",
   "execution_count": null,
   "metadata": {},
   "outputs": [],
   "source": [
    "labs"
   ]
  },
  {
   "cell_type": "code",
   "execution_count": null,
   "metadata": {},
   "outputs": [],
   "source": [
    "# Select data and replace itemid with standard format\n",
    "labs = labs[labs.ITEMID.isin(mapping.index)][['SUBJECT_ID', 'HADM_ID', 'ITEMID', 'CHARTTIME', 'VALUENUM']]\n",
    "labs['Lab'] = mapping['LEVEL1'].loc[labs['ITEMID']].values"
   ]
  },
  {
   "cell_type": "code",
   "execution_count": null,
   "metadata": {},
   "outputs": [],
   "source": [
    "labs.head()"
   ]
  },
  {
   "cell_type": "markdown",
   "metadata": {},
   "source": [
    "# Labels"
   ]
  },
  {
   "cell_type": "markdown",
   "metadata": {},
   "source": [
    "Read the patients' outcome and extract the temporal information for labelling the data"
   ]
  },
  {
   "cell_type": "code",
   "execution_count": null,
   "metadata": {},
   "outputs": [],
   "source": [
    "genderAge = pd.read_csv(PATH + 'PATIENTS.csv', usecols = ['SUBJECT_ID', 'GENDER', 'DOB'], parse_dates = ['DOB'])"
   ]
  },
  {
   "cell_type": "code",
   "execution_count": null,
   "metadata": {},
   "outputs": [],
   "source": [
    "admissions = pd.read_csv(PATH + 'ADMISSIONS.csv',  \n",
    "                         usecols = ['SUBJECT_ID', 'HADM_ID', 'ADMISSION_TYPE', 'HOSPITAL_EXPIRE_FLAG',\n",
    "                                    'ADMITTIME', 'DISCHTIME', 'DEATHTIME', 'ETHNICITY', 'INSURANCE', 'DIAGNOSIS'],\n",
    "                         parse_dates = ['ADMITTIME', 'DISCHTIME', 'DEATHTIME'])\n",
    "admissions = admissions.merge(genderAge, on = 'SUBJECT_ID')"
   ]
  },
  {
   "cell_type": "code",
   "execution_count": null,
   "metadata": {},
   "outputs": [],
   "source": [
    "# Focus only on adults - Update 12.10.2021\n",
    "removed_nan = admissions[['ADMITTIME', 'DOB']].dropna()\n",
    "admissions['AGE'] = np.nan\n",
    "admissions['AGE'][removed_nan.index] = [date.days for date in (removed_nan.ADMITTIME.dt.to_pydatetime() - removed_nan.DOB.dt.to_pydatetime())]\n",
    "admissions.AGE /= 365\n",
    "\n",
    "admissions = admissions[admissions.AGE > 18]"
   ]
  },
  {
   "cell_type": "code",
   "execution_count": null,
   "metadata": {},
   "outputs": [],
   "source": [
    "# Focus on last visits (as space between visit might change process)\n",
    "admissions = admissions.loc[admissions['SUBJECT_ID'].drop_duplicates('last').index]"
   ]
  },
  {
   "cell_type": "code",
   "execution_count": null,
   "metadata": {},
   "outputs": [],
   "source": [
    "# Change times to hours since admission\n",
    "admissions['LOS'] = admissions['DISCHTIME'] - admissions['ADMITTIME']\n",
    "admissions['Death'] = admissions['DEATHTIME'] - admissions['ADMITTIME']"
   ]
  },
  {
   "cell_type": "code",
   "execution_count": null,
   "metadata": {},
   "outputs": [],
   "source": [
    "# Add temproral information\n",
    "# Shift of 8 hours to have patients of weekend from 8 am on saturday to 8 am on monday\n",
    "admissions['Day'] = (admissions['ADMITTIME'] + pd.to_timedelta('8 hours')).dt.weekday"
   ]
  },
  {
   "cell_type": "code",
   "execution_count": null,
   "metadata": {},
   "outputs": [],
   "source": [
    "# Create index for easier search\n",
    "admissions = admissions.set_index('SUBJECT_ID')\n",
    "admissions.head()"
   ]
  },
  {
   "cell_type": "code",
   "execution_count": null,
   "metadata": {},
   "outputs": [],
   "source": [
    "assert len(admissions.HADM_ID.unique()) == len(admissions), \\\n",
    "    \"Different patients have the same HADM_ID, might be a problem for the rest of the code\""
   ]
  },
  {
   "cell_type": "markdown",
   "metadata": {},
   "source": [
    "# Transformation labs"
   ]
  },
  {
   "cell_type": "code",
   "execution_count": null,
   "metadata": {},
   "outputs": [],
   "source": [
    "# Remove unecessary HADM_ID\n",
    "labs = labs[labs.HADM_ID.isin(admissions.HADM_ID)]"
   ]
  },
  {
   "cell_type": "code",
   "execution_count": null,
   "metadata": {},
   "outputs": [],
   "source": [
    "# Change time event to time since admission\n",
    "labs['Time'] = labs.CHARTTIME.values - admissions.ADMITTIME.loc[labs.SUBJECT_ID].values"
   ]
  },
  {
   "cell_type": "code",
   "execution_count": null,
   "metadata": {},
   "outputs": [],
   "source": [
    "labs.head()"
   ]
  },
  {
   "cell_type": "markdown",
   "metadata": {},
   "source": [
    "# Reformat"
   ]
  },
  {
   "cell_type": "markdown",
   "metadata": {},
   "source": [
    "Clean reformating of the dataframe for saving"
   ]
  },
  {
   "cell_type": "code",
   "execution_count": null,
   "metadata": {},
   "outputs": [],
   "source": [
    "labs.rename(columns = {\"SUBJECT_ID\": \"Patient\",\n",
    "                       \"VALUENUM\": \"Value\"}, inplace = True)\n",
    "labs = labs.reset_index(drop = True)[['Patient', 'Time', 'Lab', 'Value']]\n",
    "labs.head()"
   ]
  },
  {
   "cell_type": "code",
   "execution_count": null,
   "metadata": {},
   "outputs": [],
   "source": [
    "admissions.rename_axis(index = \"Patient\", inplace = True)\n",
    "admissions.head()"
   ]
  },
  {
   "cell_type": "code",
   "execution_count": null,
   "metadata": {},
   "outputs": [],
   "source": [
    "labs.to_csv('data/mimic/labs_all.csv', index = False)\n",
    "admissions.to_csv('data/mimic/outcomes_all.csv')"
   ]
  },
  {
   "cell_type": "markdown",
   "metadata": {},
   "source": [
    "# Selection First days"
   ]
  },
  {
   "cell_type": "code",
   "execution_count": null,
   "metadata": {},
   "outputs": [],
   "source": [
    "first_day = pd.to_timedelta('1 day')\n",
    "admissions = admissions[admissions.LOS >= first_day]\n",
    "labs = labs[(labs.Time < first_day) &\\\n",
    "              labs.Patient.isin(admissions.index)]"
   ]
  },
  {
   "cell_type": "markdown",
   "metadata": {},
   "source": [
    "# Cleaning labs"
   ]
  },
  {
   "cell_type": "code",
   "execution_count": null,
   "metadata": {},
   "outputs": [],
   "source": [
    "# Remove duplicates: same test multiple time at the same time\n",
    "labs = labs[~labs.set_index(['Patient', 'Time', 'Lab']).index.duplicated(keep = False)]"
   ]
  },
  {
   "cell_type": "code",
   "execution_count": null,
   "metadata": {},
   "outputs": [],
   "source": [
    "# Pivot to hae test as columns\n",
    "labs = labs.pivot(index = ['Patient', 'Time'], columns = 'Lab')\n",
    "\n",
    "# Change index to have days\n",
    "labs.index = labs.index.set_levels(labs.index.get_level_values(1).total_seconds()/(3600.*24), 1)"
   ]
  },
  {
   "cell_type": "code",
   "execution_count": null,
   "metadata": {},
   "outputs": [],
   "source": [
    "# Keep labs that at least 5% population has one\n",
    "# New subselection => 6.7.2021\n",
    "labs = labs[labs.columns[(labs.groupby('Patient').count()>1).mean() > 0.05]]\n",
    "labs.head()"
   ]
  },
  {
   "cell_type": "code",
   "execution_count": null,
   "metadata": {},
   "outputs": [],
   "source": [
    "# Keep labs only 24 hours after admission\n",
    "# Justification: medical process prior to admission might be really different\n",
    "# # New subselection => 6.7.2021\n",
    "labs = labs[labs.index.get_level_values('Time') >= 0]\n",
    "labs.head()"
   ]
  },
  {
   "cell_type": "code",
   "execution_count": null,
   "metadata": {},
   "outputs": [],
   "source": [
    "# Remove empty lines\n",
    "labs = labs.dropna(how = 'all')"
   ]
  },
  {
   "cell_type": "markdown",
   "metadata": {},
   "source": [
    "# Clean outcomes"
   ]
  },
  {
   "cell_type": "code",
   "execution_count": null,
   "metadata": {},
   "outputs": [],
   "source": [
    "# Remove patients with no labs\n",
    "admissions = admissions.loc[labs.index.get_level_values(0).unique()]"
   ]
  },
  {
   "cell_type": "code",
   "execution_count": null,
   "metadata": {},
   "outputs": [],
   "source": [
    "admissions['LOS'] = admissions['LOS'].dt.total_seconds() / (24 * 60 * 60)\n",
    "admissions['Death'] = admissions['Death'].dt.total_seconds() / (24 * 60 * 60)\n",
    "admissions['Remaining'] = (admissions.LOS.loc[labs.index.get_level_values(0)] - labs.index.get_level_values(1)).groupby('Patient').last()"
   ]
  },
  {
   "cell_type": "markdown",
   "metadata": {},
   "source": [
    "# Save"
   ]
  },
  {
   "cell_type": "markdown",
   "metadata": {},
   "source": [
    "Rename columns and save all the data and labels"
   ]
  },
  {
   "cell_type": "code",
   "execution_count": null,
   "metadata": {},
   "outputs": [],
   "source": [
    "labs.to_csv('data/mimic/labs_first_day.csv')\n",
    "admissions.to_csv('data/mimic/outcomes_first_day.csv')"
   ]
  },
  {
   "cell_type": "code",
   "execution_count": null,
   "metadata": {},
   "outputs": [],
   "source": []
  }
 ],
 "metadata": {
  "interpreter": {
   "hash": "a54f3b3a447186e9a4a83057d2abe8df010acd7b8f131225203d307ef84eba48"
  },
  "kernelspec": {
   "display_name": "Python 3.9.7 64-bit ('Jupyter': conda)",
   "name": "python3"
  },
  "language_info": {
   "codemirror_mode": {
    "name": "ipython",
    "version": 3
   },
   "file_extension": ".py",
   "mimetype": "text/x-python",
   "name": "python",
   "nbconvert_exporter": "python",
   "pygments_lexer": "ipython3",
   "version": "3.9.7"
  }
 },
 "nbformat": 4,
 "nbformat_minor": 4
}
