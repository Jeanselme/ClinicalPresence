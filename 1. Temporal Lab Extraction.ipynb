{
 "cells": [
  {
   "cell_type": "markdown",
   "metadata": {},
   "source": [
    "This notebook extracts the lab data and reformat them to have unified denomination. Then extract labels of interest: death and length of stay.\n",
    "\n",
    "This code relies on [`MIMIC_extract`](https://github.com/MLforHealth/MIMIC_Extract) matching dictionary and the [MIMIC III](https://physionet.org/content/mimiciii/1.4/) data.\n",
    "To begin, download the data and update the following variable `PATH`."
   ]
  },
  {
   "cell_type": "code",
   "execution_count": null,
   "metadata": {},
   "outputs": [],
   "source": [
    "PATH = '/home/vincent/Desktop/Cambridge/Data/Mimic/' #'/home/vjemj2/rds/hpc-work/data/mimic/'"
   ]
  },
  {
   "cell_type": "code",
   "execution_count": null,
   "metadata": {},
   "outputs": [],
   "source": [
    "import numpy as np\n",
    "import pandas as pd"
   ]
  },
  {
   "cell_type": "markdown",
   "metadata": {},
   "source": [
    "# Lab data"
   ]
  },
  {
   "cell_type": "markdown",
   "metadata": {},
   "source": [
    "### Mapping labs variables"
   ]
  },
  {
   "cell_type": "code",
   "execution_count": null,
   "metadata": {},
   "outputs": [],
   "source": [
    "mapping = pd.read_csv(PATH + 'itemid_to_variable_map.csv', index_col = 'ITEMID', dtype = {'ITEMID': int})"
   ]
  },
  {
   "cell_type": "code",
   "execution_count": null,
   "metadata": {},
   "outputs": [],
   "source": [
    "mapping"
   ]
  },
  {
   "cell_type": "code",
   "execution_count": null,
   "metadata": {},
   "outputs": [],
   "source": [
    "mapping = pd.read_csv(PATH + 'itemid_to_variable_map.csv', index_col = 'ITEMID', dtype = {'ITEMID': int})\n",
    "mapping = mapping[(mapping['LEVEL2'] != '') &\\\n",
    "                  (mapping['COUNT'] > 0) &\\\n",
    "                  (mapping['STATUS'] == 'ready')\n",
    "                 ]"
   ]
  },
  {
   "cell_type": "code",
   "execution_count": null,
   "metadata": {},
   "outputs": [],
   "source": [
    "mapping.head()"
   ]
  },
  {
   "cell_type": "markdown",
   "metadata": {},
   "source": [
    "### Extract lab data"
   ]
  },
  {
   "cell_type": "code",
   "execution_count": null,
   "metadata": {},
   "outputs": [],
   "source": [
    "labs = pd.read_csv(PATH + 'LABEVENTS.csv', parse_dates = ['CHARTTIME'])"
   ]
  },
  {
   "cell_type": "code",
   "execution_count": null,
   "metadata": {},
   "outputs": [],
   "source": [
    "labs"
   ]
  },
  {
   "cell_type": "code",
   "execution_count": null,
   "metadata": {},
   "outputs": [],
   "source": [
    "# Select data and replace itemid with standard format\n",
    "labs = labs[labs.ITEMID.isin(mapping.index)][['SUBJECT_ID', 'HADM_ID', 'ITEMID', 'CHARTTIME', 'VALUENUM']]\n",
    "labs['Lab'] = mapping['LEVEL1'].loc[labs['ITEMID']].values"
   ]
  },
  {
   "cell_type": "code",
   "execution_count": null,
   "metadata": {},
   "outputs": [],
   "source": [
    "labs.head()"
   ]
  },
  {
   "cell_type": "markdown",
   "metadata": {},
   "source": [
    "# Labels"
   ]
  },
  {
   "cell_type": "markdown",
   "metadata": {},
   "source": [
    "Read the patients' outcome and extract the temporal information for labelling the data"
   ]
  },
  {
   "cell_type": "code",
   "execution_count": null,
   "metadata": {},
   "outputs": [],
   "source": [
    "genderAge = pd.read_csv(PATH + 'PATIENTS.csv', usecols = ['SUBJECT_ID', 'GENDER', 'DOB'], parse_dates = ['DOB'])"
   ]
  },
  {
   "cell_type": "code",
   "execution_count": null,
   "metadata": {},
   "outputs": [],
   "source": [
    "admissions = pd.read_csv(PATH + 'ADMISSIONS.csv',  \n",
    "                         usecols = ['SUBJECT_ID', 'HADM_ID', 'ADMISSION_TYPE', 'HOSPITAL_EXPIRE_FLAG',\n",
    "                                    'ADMITTIME', 'DISCHTIME', 'DEATHTIME', 'ETHNICITY', 'INSURANCE', 'DIAGNOSIS'],\n",
    "                         parse_dates = ['ADMITTIME', 'DISCHTIME', 'DEATHTIME'])\n",
    "admissions = admissions.merge(genderAge, on = 'SUBJECT_ID')"
   ]
  },
  {
   "cell_type": "code",
   "execution_count": null,
   "metadata": {},
   "outputs": [],
   "source": [
    "# Focus only on adults - Update 12.10.2021\n",
    "removed_nan = admissions[['ADMITTIME', 'DOB']].dropna()\n",
    "admissions['AGE'] = np.nan\n",
    "admissions['AGE'][removed_nan.index] = [date.days for date in (removed_nan.ADMITTIME.dt.to_pydatetime() - removed_nan.DOB.dt.to_pydatetime())]\n",
    "admissions.AGE /= 365\n",
    "\n",
    "admissions = admissions[admissions.AGE > 18]"
   ]
  },
  {
   "cell_type": "code",
   "execution_count": null,
   "metadata": {},
   "outputs": [],
   "source": [
    "# Focus on last visits (as space between visit might change process)\n",
    "admissions = admissions.loc[admissions['SUBJECT_ID'].drop_duplicates('last').index]"
   ]
  },
  {
   "cell_type": "code",
   "execution_count": null,
   "metadata": {},
   "outputs": [],
   "source": [
    "# Change times to hours since admission\n",
    "admissions['LOS'] = admissions['DISCHTIME'] - admissions['ADMITTIME']\n",
    "admissions['Death'] = admissions['DEATHTIME'] - admissions['ADMITTIME']"
   ]
  },
  {
   "cell_type": "code",
   "execution_count": null,
   "metadata": {},
   "outputs": [],
   "source": [
    "# Add temproral information\n",
    "# Shift of 8 hours to have patients of weekend from 8 am on saturday to 8 am on monday\n",
    "admissions['Day'] = (admissions['ADMITTIME'] + pd.to_timedelta('8 hours')).dt.weekday"
   ]
  },
  {
   "cell_type": "code",
   "execution_count": null,
   "metadata": {},
   "outputs": [],
   "source": [
    "# Create index for easier search\n",
    "admissions = admissions.set_index('SUBJECT_ID')\n",
    "admissions.head()"
   ]
  },
  {
   "cell_type": "code",
   "execution_count": null,
   "metadata": {},
   "outputs": [],
   "source": [
    "assert len(admissions.HADM_ID.unique()) == len(admissions), \\\n",
    "    \"Different patients have the same HADM_ID, might be a problem for the rest of the code\""
   ]
  },
  {
   "cell_type": "markdown",
   "metadata": {},
   "source": [
    "# Transformation labs"
   ]
  },
  {
   "cell_type": "code",
   "execution_count": null,
   "metadata": {},
   "outputs": [],
   "source": [
    "# Remove unecessary HADM_ID\n",
    "labs = labs[labs.HADM_ID.isin(admissions.HADM_ID)]"
   ]
  },
  {
   "cell_type": "code",
   "execution_count": null,
   "metadata": {},
   "outputs": [],
   "source": [
    "# Change time event to time since admission\n",
    "labs['Time'] = labs.CHARTTIME.values - admissions.ADMITTIME.loc[labs.SUBJECT_ID].values"
   ]
  },
  {
   "cell_type": "code",
   "execution_count": null,
   "metadata": {},
   "outputs": [],
   "source": [
    "labs.head()"
   ]
  },
  {
   "cell_type": "markdown",
   "metadata": {},
   "source": [
    "# Reformat"
   ]
  },
  {
   "cell_type": "markdown",
   "metadata": {},
   "source": [
    "Clean reformating of the dataframe for saving"
   ]
  },
  {
   "cell_type": "code",
   "execution_count": null,
   "metadata": {},
   "outputs": [],
   "source": [
    "labs.rename(columns = {\"SUBJECT_ID\": \"Patient\",\n",
    "                       \"VALUENUM\": \"Value\"}, inplace = True)\n",
    "labs = labs.reset_index(drop = True)[['Patient', 'Time', 'Lab', 'Value']]\n",
    "labs.head()"
   ]
  },
  {
   "cell_type": "code",
   "execution_count": null,
   "metadata": {},
   "outputs": [],
   "source": [
    "admissions.rename_axis(index = \"Patient\", inplace = True)\n",
    "admissions.head()"
   ]
  },
  {
   "cell_type": "code",
   "execution_count": null,
   "metadata": {},
   "outputs": [],
   "source": [
    "labs.to_csv('data/labs_all.csv', index = False)\n",
    "admissions.to_csv('data/outcomes_all.csv')"
   ]
  },
  {
   "cell_type": "markdown",
   "metadata": {},
   "source": [
    "# Selection First days"
   ]
  },
  {
   "cell_type": "code",
   "execution_count": null,
   "metadata": {},
   "outputs": [],
   "source": [
    "first_day = pd.to_timedelta('1 day')\n",
    "admissions = admissions[admissions.LOS >= first_day]\n",
    "labs = labs[(labs.Time < first_day) &\\\n",
    "              labs.Patient.isin(admissions.index)]"
   ]
  },
  {
   "cell_type": "markdown",
   "metadata": {},
   "source": [
    "# Cleaning labs"
   ]
  },
  {
   "cell_type": "code",
   "execution_count": null,
   "metadata": {},
   "outputs": [],
   "source": [
    "# Remove duplicates: same test multiple time at the same time\n",
    "labs = labs[~labs.set_index(['Patient', 'Time', 'Lab']).index.duplicated(keep = False)]"
   ]
  },
  {
   "cell_type": "code",
   "execution_count": null,
   "metadata": {},
   "outputs": [],
   "source": [
    "# Pivot to hae test as columns\n",
    "labs = labs.pivot(index = ['Patient', 'Time'], columns = 'Lab')\n",
    "\n",
    "# Change index to have days\n",
    "labs.index = labs.index.set_levels(labs.index.get_level_values(1).total_seconds()/(3600.*24), 1)"
   ]
  },
  {
   "cell_type": "code",
   "execution_count": null,
   "metadata": {},
   "outputs": [],
   "source": [
    "# Keep patients with at least two measures during the 24 hours of admission\n",
    "# New update for 24 selection => 1.7.2021 \n",
    "one_measure = labs.index.to_frame(False).groupby('Patient').apply(lambda x: (x < 24).sum()).Time > 1\n",
    "labs = labs[labs.index.get_level_values(0).isin(one_measure[one_measure].index)]"
   ]
  },
  {
   "cell_type": "code",
   "execution_count": null,
   "metadata": {},
   "outputs": [],
   "source": [
    "# Keep labs that at least 5% population has one\n",
    "# New subselection => 6.7.2021\n",
    "labs = labs[labs.columns[(labs.groupby('Patient').count()>1).mean() > 0.05]]\n",
    "labs.head()"
   ]
  },
  {
   "cell_type": "code",
   "execution_count": null,
   "metadata": {},
   "outputs": [],
   "source": [
    "# Keep labs only 24 hours after admission\n",
    "# Justification: medical process prior to admission might be really different\n",
    "# # New subselection => 6.7.2021\n",
    "labs = labs[labs.index.get_level_values('Time') >= 0]\n",
    "labs.head()"
   ]
  },
  {
   "cell_type": "code",
   "execution_count": null,
   "metadata": {},
   "outputs": [],
   "source": [
    "# Remove empty lines\n",
    "labs = labs.dropna(how = 'all')"
   ]
  },
  {
   "cell_type": "markdown",
   "metadata": {},
   "source": [
    "# Clean outcomes"
   ]
  },
  {
   "cell_type": "code",
   "execution_count": null,
   "metadata": {},
   "outputs": [],
   "source": [
    "# Remove patients with no labs\n",
    "admissions = admissions.loc[labs.index.get_level_values(0).unique()]"
   ]
  },
  {
   "cell_type": "code",
   "execution_count": null,
   "metadata": {},
   "outputs": [],
   "source": [
    "admissions['LOS'] = admissions['LOS'].dt.total_seconds() / (24 * 60 * 60)\n",
    "admissions['Death'] = admissions['Death'].dt.total_seconds() / (24 * 60 * 60)\n",
    "admissions['Remaining'] = (admissions.LOS.loc[labs.index.get_level_values(0)] - labs.index.get_level_values(1)).groupby('Patient').last()"
   ]
  },
  {
   "cell_type": "markdown",
   "metadata": {},
   "source": [
    "# Save"
   ]
  },
  {
   "cell_type": "markdown",
   "metadata": {},
   "source": [
    "Rename columns and save all the data and labels"
   ]
  },
  {
   "cell_type": "code",
   "execution_count": null,
   "metadata": {},
   "outputs": [],
   "source": [
    "labs.to_csv('data/labs_first_day.csv')\n",
    "admissions.to_csv('data/outcomes_first_day.csv')"
   ]
  },
  {
   "cell_type": "code",
   "execution_count": null,
   "metadata": {},
   "outputs": [],
   "source": []
  }
 ],
 "metadata": {
  "interpreter": {
   "hash": "a54f3b3a447186e9a4a83057d2abe8df010acd7b8f131225203d307ef84eba48"
  },
  "kernelspec": {
   "display_name": "Python 3.9.7 64-bit ('Jupyter': conda)",
   "name": "python3"
  },
  "language_info": {
   "codemirror_mode": {
    "name": "ipython",
    "version": 3
   },
   "file_extension": ".py",
   "mimetype": "text/x-python",
   "name": "python",
   "nbconvert_exporter": "python",
   "pygments_lexer": "ipython3",
   "version": "3.9.7"
  }
 },
 "nbformat": 4,
 "nbformat_minor": 4
}
