{
 "cells": [
  {
   "cell_type": "code",
   "execution_count": null,
   "metadata": {},
   "outputs": [],
   "source": [
    "import numpy as np\n",
    "import pandas as pd\n",
    "import matplotlib.pyplot as plt\n",
    "import seaborn as sns\n",
    "sns.set_theme(style=\"darkgrid\")\n",
    "sns.set_context('paper', font_scale=1.75)"
   ]
  },
  {
   "cell_type": "markdown",
   "metadata": {},
   "source": [
    "# Preparation data"
   ]
  },
  {
   "cell_type": "code",
   "execution_count": null,
   "metadata": {},
   "outputs": [],
   "source": [
    "labs = pd.read_csv('data/labs_first_day.csv', index_col = [0, 1], header = [0, 1])\n",
    "outcomes = pd.read_csv('data/outcomes_first_day.csv', index_col = 0)\n",
    "labs.columns = labs.columns.droplevel() "
   ]
  },
  {
   "cell_type": "code",
   "execution_count": null,
   "metadata": {},
   "outputs": [],
   "source": [
    "# For paper's tables\n",
    "labs = pd.read_csv('data/labs_first_day_subselection.csv', index_col = [0, 1])\n",
    "outcomes = pd.read_csv('data/outcomes_first_day_subselection.csv', index_col = 0)"
   ]
  },
  {
   "cell_type": "markdown",
   "metadata": {},
   "source": [
    "### Analysis"
   ]
  },
  {
   "cell_type": "code",
   "execution_count": null,
   "metadata": {},
   "outputs": [],
   "source": [
    "labs"
   ]
  },
  {
   "cell_type": "code",
   "execution_count": null,
   "metadata": {},
   "outputs": [],
   "source": [
    "labs.groupby('Patient').count().mean().sort_values()[-20:].plot.barh(figsize = (5,7))"
   ]
  },
  {
   "cell_type": "markdown",
   "metadata": {},
   "source": [
    "### How many different labs in this period ?"
   ]
  },
  {
   "cell_type": "code",
   "execution_count": null,
   "metadata": {},
   "outputs": [],
   "source": [
    "number_events = ((~labs.isna()).sum(axis = 1) > 0).groupby('Patient').sum()\n",
    "number_events.describe()"
   ]
  },
  {
   "cell_type": "markdown",
   "metadata": {},
   "source": [
    "### In hospial mortality"
   ]
  },
  {
   "cell_type": "code",
   "execution_count": null,
   "metadata": {},
   "outputs": [],
   "source": [
    "print(\"In hospital mortality: {:.2f} %\".format(100 * (~outcomes.Death.isna()).mean()))"
   ]
  },
  {
   "cell_type": "markdown",
   "metadata": {},
   "source": [
    "# Analysis per admission day"
   ]
  },
  {
   "cell_type": "code",
   "execution_count": null,
   "metadata": {},
   "outputs": [],
   "source": [
    "weekday = [p for p in outcomes.index if outcomes.loc[p].Day <= 4]\n",
    "weekend = outcomes.index.difference(weekday)"
   ]
  },
  {
   "cell_type": "code",
   "execution_count": null,
   "metadata": {},
   "outputs": [],
   "source": [
    "# To modify to study another group\n",
    "outcome_we = outcomes.loc[weekend]\n",
    "labs_we = labs.loc[weekend]\n",
    "\n",
    "outcome_wd = outcomes.loc[weekday]\n",
    "labs_wd = labs.loc[weekday]"
   ]
  },
  {
   "cell_type": "code",
   "execution_count": null,
   "metadata": {},
   "outputs": [],
   "source": [
    "len(outcome_we), len(outcome_wd), len(outcomes)"
   ]
  },
  {
   "cell_type": "code",
   "execution_count": null,
   "metadata": {},
   "outputs": [],
   "source": [
    "# Prepreocess ethnicity\n",
    "ethnicity = outcomes.ETHNICITY.copy()\n",
    "ethnicity[ethnicity.str.contains(\"ASIAN\")] = 'Asian'\n",
    "ethnicity[ethnicity.str.contains(\"HISPANIC\")] = 'Hispanic'\n",
    "ethnicity[ethnicity.str.contains(\"BLACK\")] = 'Black'\n",
    "ethnicity[ethnicity.str.contains(\"WHITE\")] = 'White'\n",
    "ethnicity[(ethnicity != \"Asian\") & (ethnicity != \"Hispanic\") & (ethnicity != \"Black\") & (ethnicity != \"White\")] = 'Other'\n",
    "\n",
    "outcomes.ETHNICITY = ethnicity"
   ]
  },
  {
   "cell_type": "code",
   "execution_count": null,
   "metadata": {},
   "outputs": [],
   "source": [
    "los_mean_we = outcome_we['LOS'].mean()\n",
    "los_std_we = outcome_we['LOS'].std()\n",
    "los_mean_wd = outcome_wd['LOS'].mean()\n",
    "los_std_wd = outcome_wd['LOS'].std()\n",
    "los = pd.DataFrame({'Mean': [outcomes['LOS'].mean(), los_mean_wd, los_mean_we],\n",
    "                    'Std': [outcomes['LOS'].std(), los_std_wd, los_std_we]}, index = ['Population', 'Weekday', 'Weekend']).T\n",
    "\n",
    "death_we = (~outcome_we['Death'].isna()).mean()\n",
    "death_wd = (~outcome_wd['Death'].isna()).mean()\n",
    "death = pd.DataFrame({'':[(~outcomes['Death'].isna()).mean(), death_wd, death_we]}, index = ['Population', 'Weekday', 'Weekend']).T*100\n",
    "\n",
    "insurance_we = outcome_we['INSURANCE'].value_counts() / len(outcome_we)\n",
    "insurance_wd = outcome_wd['INSURANCE'].value_counts() / len(outcome_wd)\n",
    "insurance = pd.concat({\"Population\": outcomes['INSURANCE'].value_counts() / len(outcomes), \"Weekday\": insurance_wd, \"Weekend\": insurance_we}, 1)*100\n",
    "\n",
    "ethnicity_we = ethnicity.loc[weekend].value_counts() / len(ethnicity.loc[weekend])\n",
    "ethnicity_wd = ethnicity.loc[weekday].value_counts() / len(ethnicity.loc[weekday])\n",
    "ethnicity = pd.concat({\"Population\": ethnicity.value_counts() / len(ethnicity), \"Weekday\": ethnicity_wd, \"Weekend\": ethnicity_we}, 1)*100\n",
    "\n",
    "gender_we = outcome_we['GENDER'].replace({'M': 'Male', 'F': 'Female'}).value_counts() / len(outcome_we)\n",
    "gender_wd = outcome_wd['GENDER'].replace({'M': 'Male', 'F': 'Female'}).value_counts() / len(outcome_wd)\n",
    "gender = pd.concat({\"Population\": outcomes['GENDER'].replace({'M': 'Male', 'F': 'Female'}).value_counts() / len(outcomes), \"Weekday\": gender_wd, \"Weekend\": gender_we}, 1)*100"
   ]
  },
  {
   "cell_type": "code",
   "execution_count": null,
   "metadata": {},
   "outputs": [],
   "source": [
    "analysis = pd.concat({'LOS': los,\n",
    "           'Death': death,\n",
    "           'Gender': gender,\n",
    "           'Ethnicity': ethnicity,\n",
    "           'Insurance': insurance})\n",
    "print(analysis.to_latex(float_format=\"{:0.2f}\".format))\n",
    "analysis"
   ]
  },
  {
   "cell_type": "code",
   "execution_count": null,
   "metadata": {},
   "outputs": [],
   "source": [
    "count_mean = labs.groupby('Patient').count().mean()\n",
    "count_std = labs.groupby('Patient').count().std()\n",
    "value_mean = labs.groupby('Patient').mean().mean()\n",
    "value_std = labs.groupby('Patient').mean().std()"
   ]
  },
  {
   "cell_type": "code",
   "execution_count": null,
   "metadata": {},
   "outputs": [],
   "source": [
    "tests = pd.DataFrame({('Number Test', 'Mean'): count_mean,\n",
    "           ('Number Test', 'Std'):count_std, \n",
    "           ('Value', 'Mean'): value_mean, \n",
    "           ('Value', 'Std'): value_std})\n",
    "print(tests.to_latex(float_format=\"{:0.2f}\".format))\n",
    "tests"
   ]
  },
  {
   "cell_type": "code",
   "execution_count": null,
   "metadata": {},
   "outputs": [],
   "source": [
    "count_mean_we = labs_we.groupby('Patient').count().mean()\n",
    "count_std_we = labs_we.groupby('Patient').count().std()\n",
    "value_mean_we = labs_we.groupby('Patient').mean().mean()\n",
    "value_std_we = labs_we.groupby('Patient').mean().std()\n",
    "\n",
    "count_mean_wd = labs_wd.groupby('Patient').count().mean()\n",
    "count_std_wd = labs_wd.groupby('Patient').count().std()\n",
    "value_mean_wd = labs_wd.groupby('Patient').mean().mean()\n",
    "value_std_wd = labs_wd.groupby('Patient').mean().std()"
   ]
  },
  {
   "cell_type": "code",
   "execution_count": null,
   "metadata": {},
   "outputs": [],
   "source": [
    "import scipy.stats"
   ]
  },
  {
   "cell_type": "code",
   "execution_count": null,
   "metadata": {},
   "outputs": [],
   "source": [
    "tests = pd.DataFrame({('Number Test', 'Weekday', 'Mean'): count_mean_wd, \n",
    "            ('Number Test', 'Weekend', 'Mean'): count_mean_we, \n",
    "            ('Number Test', 'Test', 'P Value'): [scipy.stats.ttest_ind(labs_we[i].groupby('Patient').count().dropna(), labs_wd[i].groupby('Patient').count().dropna())[1] for i in labs_wd.columns],\n",
    "           ('Value', 'Weekday', 'Mean'): value_mean_wd, \n",
    "           ('Value', 'Weekend', 'Mean'): value_mean_we,\n",
    "           ('Value', 'Test', 'P Value'): [scipy.stats.ttest_ind(labs_we[i].groupby('Patient').mean().dropna(), labs_wd[i].groupby('Patient').mean().dropna())[1] for i in labs_wd.columns],\n",
    "           \n",
    "          })\n",
    "print(tests.loc[labs.groupby('Patient').count().mean().sort_values().index].to_latex(float_format=\"{:0.3f}\".format))\n",
    "tests"
   ]
  },
  {
   "cell_type": "code",
   "execution_count": null,
   "metadata": {},
   "outputs": [],
   "source": [
    "ordered_test = labs.groupby('Patient').count().sum(1).to_frame(name = 'Total tests ordered').join(\n",
    "    (outcomes.Day <= 4).rename(\"Admission\").replace({False: \"Weekend\", True: \"Weekday\"})\n",
    "    ).join(outcomes.Death.isna().rename(\"Outcome\").replace({True: \"Discharge\", False: \"Death\"}))"
   ]
  },
  {
   "cell_type": "code",
   "execution_count": null,
   "metadata": {},
   "outputs": [],
   "source": [
    "ax = sns.violinplot(x = \"Outcome\", y = \"Total tests ordered\", hue = \"Admission\", data = ordered_test, split = True, inner = 'quartile', palette = \"flare\", cut = 0)\n",
    "plt.legend(loc='center left', bbox_to_anchor=(1.05, 0.5), title = 'Admission day')\n",
    "plt.ylim(17, 75)"
   ]
  },
  {
   "cell_type": "markdown",
   "metadata": {},
   "source": [
    "# Analyze available labs"
   ]
  },
  {
   "cell_type": "markdown",
   "metadata": {},
   "source": [
    "Subselect features to use."
   ]
  },
  {
   "cell_type": "code",
   "execution_count": null,
   "metadata": {},
   "outputs": [],
   "source": [
    "from FeatureAnalysis.analysis.eclat import eclat\n",
    "from FeatureAnalysis.analysis.rendering import buildGraph"
   ]
  },
  {
   "cell_type": "code",
   "execution_count": null,
   "metadata": {},
   "outputs": [],
   "source": [
    "missing_data = labs.groupby('Patient').count()\n",
    "missing_data[missing_data <= 0] = np.nan\n",
    "missing_data[0 < missing_data] = 1"
   ]
  },
  {
   "cell_type": "code",
   "execution_count": null,
   "metadata": {},
   "outputs": [],
   "source": [
    "features = eclat(missing_data, minCount = 30000)\n",
    "print(features)\n",
    "buildGraph(features, mainBranch = True).render('examples/small')"
   ]
  },
  {
   "cell_type": "code",
   "execution_count": null,
   "metadata": {},
   "outputs": [],
   "source": [
    "def next_feature(node):\n",
    "    if len(node.children) == 0:\n",
    "        return [node.name]\n",
    "    return [node.name] + next_feature(node.children[0])"
   ]
  },
  {
   "cell_type": "code",
   "execution_count": null,
   "metadata": {},
   "outputs": [],
   "source": [
    "# Remove patients with no values\n",
    "selection = labs[next_feature(features.children[0])][next_feature(features.children[0])]\n",
    "selection = (selection.groupby('Patient').count() == 0).sum(1) == 0\n",
    "selection = selection.index[selection]"
   ]
  },
  {
   "cell_type": "code",
   "execution_count": null,
   "metadata": {},
   "outputs": [],
   "source": [
    "labs[labs.index.get_level_values('Patient').isin(selection)][next_feature(features.children[0])]"
   ]
  },
  {
   "cell_type": "code",
   "execution_count": null,
   "metadata": {},
   "outputs": [],
   "source": [
    "labs_subselection = labs[labs.index.get_level_values('Patient').isin(selection)][next_feature(features.children[0])].dropna(how = 'all')\n",
    "outcomes_subselection = outcomes[outcomes.index.get_level_values('Patient').isin(labs_subselection.index.get_level_values('Patient'))]"
   ]
  },
  {
   "cell_type": "code",
   "execution_count": null,
   "metadata": {},
   "outputs": [],
   "source": [
    "# Save subsets patients and labs\n",
    "labs_subselection.to_csv('data/labs_first_day_subselection.csv')\n",
    "outcomes_subselection.to_csv('data/outcomes_first_day_subselection.csv')"
   ]
  },
  {
   "cell_type": "markdown",
   "metadata": {},
   "source": [
    "# Display observation process"
   ]
  },
  {
   "cell_type": "markdown",
   "metadata": {},
   "source": [
    "Display a random selection for each outcomes of the observation process"
   ]
  },
  {
   "cell_type": "code",
   "execution_count": null,
   "metadata": {},
   "outputs": [],
   "source": [
    "np.random.seed(42)"
   ]
  },
  {
   "cell_type": "code",
   "execution_count": null,
   "metadata": {},
   "outputs": [],
   "source": [
    "n = 30\n",
    "random_selection = {\n",
    "    time: \n",
    "        {\n",
    "            'Early Death\\n(before end of week 1)': outcomes_time[(~outcomes_time.Death.isna()) & (outcomes_time.LOS < 7)].sample(n = n),\n",
    "            'Later Death': outcomes_time[(~outcomes_time.Death.isna()) & (outcomes_time.LOS > 7)].sample(n = n),\n",
    "            'Discharged': outcomes_time[outcomes_time.Death.isna()].sample(n = n) \n",
    "        } for time, outcomes_time in zip(['Weekday Admission', 'Weekend Admission'], [outcome_wd, outcome_we])\n",
    "    }\n",
    "\n"
   ]
  },
  {
   "cell_type": "code",
   "execution_count": null,
   "metadata": {},
   "outputs": [],
   "source": [
    "for l in np.random.choice(labs.columns, size = 5):\n",
    "    labs_display = labs[l].dropna()\n",
    "\n",
    "    fig, ax = plt.subplots(nrows=3, ncols=2, figsize=(10, 8), sharex = True, sharey = True)\n",
    "    fig.suptitle(l)\n",
    "\n",
    "    for j, time in enumerate(random_selection.keys()):\n",
    "        ax[0, j].set_title(time)\n",
    "        for i, cat in enumerate(random_selection[time].keys()):\n",
    "            ax[i, j].axes.yaxis.set_ticks([])\n",
    "            ax[i, j].set_xlim([0, 24])\n",
    "            ax[i, 0].set_ylabel(cat)\n",
    "            for k, patient in enumerate(random_selection[time][cat].index):\n",
    "                ax[i, j].plot([0, 24], [k, k], ls = '--', alpha = 0.5, c = 'w')\n",
    "                try:\n",
    "                    data_patient = labs_display.loc[patient].index\n",
    "                    ax[i, j].scatter(24 * data_patient, [k] * len(data_patient), alpha = 0.8, marker = 'x')\n",
    "                except:\n",
    "                    pass\n",
    "    ax[-1, 1].set_xlabel('Time (in hours)')\n",
    "    ax[-1, 0].set_xlabel('Time (in hours)')\n",
    "    plt.tight_layout()\n",
    "    plt.show()"
   ]
  },
  {
   "cell_type": "code",
   "execution_count": null,
   "metadata": {},
   "outputs": [],
   "source": []
  }
 ],
 "metadata": {
  "interpreter": {
   "hash": "a54f3b3a447186e9a4a83057d2abe8df010acd7b8f131225203d307ef84eba48"
  },
  "kernelspec": {
   "display_name": "Python 3.9.7 64-bit ('Jupyter': conda)",
   "name": "python3"
  },
  "language_info": {
   "codemirror_mode": {
    "name": "ipython",
    "version": 3
   },
   "file_extension": ".py",
   "mimetype": "text/x-python",
   "name": "python",
   "nbconvert_exporter": "python",
   "pygments_lexer": "ipython3",
   "version": "3.9.7"
  }
 },
 "nbformat": 4,
 "nbformat_minor": 4
}
