{
 "cells": [
  {
   "cell_type": "code",
   "execution_count": null,
   "metadata": {},
   "outputs": [],
   "source": [
    "import numpy as np\n",
    "import pandas as pd\n",
    "import matplotlib.pyplot as plt\n",
    "import seaborn as sns\n",
    "sns.set_theme(style=\"darkgrid\")\n",
    "sns.set_context('paper', font_scale=1.75)"
   ]
  },
  {
   "cell_type": "markdown",
   "metadata": {},
   "source": [
    "# Preparation data"
   ]
  },
  {
   "cell_type": "code",
   "execution_count": null,
   "metadata": {},
   "outputs": [],
   "source": [
    "labs = pd.read_csv('data/eicu/labs_first_day.csv', index_col = [0, 1], header = [0, 1])\n",
    "outcomes = pd.read_csv('data/eicu/outcomes_first_day.csv', index_col = 0)\n",
    "labs.columns = labs.columns.droplevel() "
   ]
  },
  {
   "cell_type": "code",
   "execution_count": null,
   "metadata": {},
   "outputs": [],
   "source": [
    "# For paper's tables\n",
    "# labs = pd.read_csv('data/eicu/labs_first_day_subselection.csv', index_col = [0, 1])\n",
    "# outcomes = pd.read_csv('data/eicu/outcomes_first_day_subselection.csv', index_col = 0)"
   ]
  },
  {
   "cell_type": "markdown",
   "metadata": {},
   "source": [
    "### Analysis"
   ]
  },
  {
   "cell_type": "code",
   "execution_count": null,
   "metadata": {},
   "outputs": [],
   "source": [
    "labs"
   ]
  },
  {
   "cell_type": "code",
   "execution_count": null,
   "metadata": {},
   "outputs": [],
   "source": [
    "labs.groupby('Patient').count().mean().sort_values()[-20:].plot.barh(figsize = (5,7))"
   ]
  },
  {
   "cell_type": "markdown",
   "metadata": {},
   "source": [
    "### How many different labs in this period ?"
   ]
  },
  {
   "cell_type": "code",
   "execution_count": null,
   "metadata": {},
   "outputs": [],
   "source": [
    "number_events = ((~labs.isna()).sum(axis = 1) > 0).groupby('Patient').sum()\n",
    "number_events.describe()"
   ]
  },
  {
   "cell_type": "markdown",
   "metadata": {},
   "source": [
    "### In hospial mortality"
   ]
  },
  {
   "cell_type": "code",
   "execution_count": null,
   "metadata": {},
   "outputs": [],
   "source": [
    "print(\"In hospital mortality: {:.2f} %\".format(100 * outcomes.Death.mean()))\n",
    "outcomes[['teachingstatus', 'Death']].groupby('teachingstatus').mean()"
   ]
  },
  {
   "cell_type": "markdown",
   "metadata": {},
   "source": [
    "# Analysis per admission day"
   ]
  },
  {
   "cell_type": "code",
   "execution_count": null,
   "metadata": {},
   "outputs": [],
   "source": [
    "# Prepreocess ethnicity\n",
    "ethnicity = outcomes.ethnicity.copy().replace({\"Caucasian\": 'White', 'African American': 'Black'})\n",
    "ethnicity[(ethnicity != \"Asian\") & (ethnicity != \"Hispanic\") & (ethnicity != \"Black\") & (ethnicity != \"White\")] = 'Other'\n",
    "\n",
    "outcomes.ethnicity = ethnicity"
   ]
  },
  {
   "cell_type": "code",
   "execution_count": null,
   "metadata": {},
   "outputs": [],
   "source": [
    "teaching = outcomes[outcomes.teachingstatus == 't']\n",
    "nonteaching = outcomes[outcomes.teachingstatus == 'f']\n",
    "\n",
    "labs_t = labs.loc[teaching.index]\n",
    "labs_f = labs.loc[nonteaching.index]"
   ]
  },
  {
   "cell_type": "code",
   "execution_count": null,
   "metadata": {},
   "outputs": [],
   "source": [
    "los_mean_t = teaching['Time'].mean()\n",
    "los_std_t = teaching['Time'].std()\n",
    "los_mean_f = nonteaching['Time'].mean()\n",
    "los_std_f = nonteaching['Time'].std()\n",
    "los = pd.DataFrame({'Mean': [outcomes['Time'].mean(), los_mean_f, los_mean_t],\n",
    "                    'Std': [outcomes['Time'].std(), los_std_f, los_std_t]}, index = ['Population', 'Non Teaching', 'Teaching']).T\n",
    "\n",
    "death_t = teaching['Death'].mean()\n",
    "death_f = nonteaching['Death'].mean()\n",
    "death = pd.DataFrame({'':[outcomes['Death'].mean(), death_f, death_t]}, index = ['Population', 'Non Teaching', 'Teaching']).T*100\n",
    "\n",
    "ethnicity_t = ethnicity.loc[teaching.index].value_counts() / len(ethnicity.loc[teaching.index])\n",
    "ethnicity_f = ethnicity.loc[nonteaching.index].value_counts() / len(ethnicity.loc[nonteaching.index])\n",
    "ethnicity = pd.concat({\"Population\": ethnicity.value_counts() / len(ethnicity), \"Non Teaching\": ethnicity_f, \"Teaching\": ethnicity_t}, 1)*100\n",
    "\n",
    "gender_t = teaching['gender'].value_counts() / len(teaching)\n",
    "gender_f = nonteaching['gender'].value_counts() / len(nonteaching)\n",
    "gender = pd.concat({\"Population\": outcomes['gender'].value_counts() / len(outcomes), \"Non Teaching\": gender_f, \"Teaching\": gender_t}, 1)*100"
   ]
  },
  {
   "cell_type": "code",
   "execution_count": null,
   "metadata": {},
   "outputs": [],
   "source": [
    "analysis = pd.concat({'LOS': los,\n",
    "           'Death': death,\n",
    "           'Gender': gender,\n",
    "           'Ethnicity': ethnicity})\n",
    "print(analysis.to_latex(float_format=\"{:0.2f}\".format))\n",
    "analysis"
   ]
  },
  {
   "cell_type": "code",
   "execution_count": null,
   "metadata": {},
   "outputs": [],
   "source": [
    "count_mean = labs.groupby('Patient').count().mean()\n",
    "count_std = labs.groupby('Patient').count().std()\n",
    "value_mean = labs.groupby('Patient').mean().mean()\n",
    "value_std = labs.groupby('Patient').mean().std()"
   ]
  },
  {
   "cell_type": "code",
   "execution_count": null,
   "metadata": {},
   "outputs": [],
   "source": [
    "tests = pd.DataFrame({('Number Test', 'Mean'): count_mean,\n",
    "           ('Number Test', 'Std'):count_std, \n",
    "           ('Value', 'Mean'): value_mean, \n",
    "           ('Value', 'Std'): value_std})\n",
    "print(tests.to_latex(float_format=\"{:0.2f}\".format))\n",
    "tests"
   ]
  },
  {
   "cell_type": "code",
   "execution_count": null,
   "metadata": {},
   "outputs": [],
   "source": [
    "count_mean_f = labs_f.groupby('Patient').count().mean()\n",
    "count_std_f = labs_f.groupby('Patient').count().std()\n",
    "value_mean_f = labs_f.groupby('Patient').mean().mean()\n",
    "value_std_f = labs_f.groupby('Patient').mean().std()\n",
    "\n",
    "count_mean_t = labs_t.groupby('Patient').count().mean()\n",
    "count_std_t = labs_t.groupby('Patient').count().std()\n",
    "value_mean_t = labs_t.groupby('Patient').mean().mean()\n",
    "value_std_t = labs_t.groupby('Patient').mean().std()"
   ]
  },
  {
   "cell_type": "code",
   "execution_count": null,
   "metadata": {},
   "outputs": [],
   "source": [
    "import scipy.stats"
   ]
  },
  {
   "cell_type": "code",
   "execution_count": null,
   "metadata": {},
   "outputs": [],
   "source": [
    "tests = pd.DataFrame({('Number Test', 'Teaching', 'Mean'): count_mean_t, \n",
    "            ('Number Test', 'Non Teaching', 'Mean'): count_mean_f, \n",
    "            ('Number Test', 'Test', 'P Value'): [scipy.stats.ttest_ind(labs_f[i].groupby('Patient').count().dropna(), labs_t[i].groupby('Patient').count().dropna())[1] for i in labs_t.columns],\n",
    "           ('Value', 'Teaching', 'Mean'): value_mean_t, \n",
    "           ('Value', 'Non Teaching', 'Mean'): value_mean_f,\n",
    "           ('Value', 'Test', 'P Value'): [scipy.stats.ttest_ind(labs_f[i].groupby('Patient').mean().dropna(), labs_t[i].groupby('Patient').mean().dropna())[1] for i in labs_t.columns],\n",
    "           \n",
    "          })\n",
    "print(tests.loc[labs.groupby('Patient').count().mean().sort_values().index].to_latex(float_format=\"{:0.3f}\".format))\n",
    "tests"
   ]
  },
  {
   "cell_type": "code",
   "execution_count": null,
   "metadata": {},
   "outputs": [],
   "source": [
    "ordered_test = labs.groupby('Patient').count().sum(1).to_frame(name = 'Total tests ordered').join(\n",
    "    (outcomes.teachingstatus).rename(\"Institution\").replace({'t': \"Teaching\", 'f': \"Non teaching\"})\n",
    "    ).join(outcomes.Death.rename(\"Outcome\").replace({True: \"Death\", False: \"Discharge\"}))"
   ]
  },
  {
   "cell_type": "code",
   "execution_count": null,
   "metadata": {},
   "outputs": [],
   "source": [
    "plt.figure(dpi = 1000)\n",
    "ax = sns.violinplot(x = \"Outcome\", y = \"Total tests ordered\", hue = 'Institution', data = ordered_test, split = True, inner = 'quartile', palette = \"Blues\", cut = 0, fig_size = (10,5))\n",
    "plt.legend(loc='center left', bbox_to_anchor=(1.05, 0.5), title = 'Institution')\n",
    "plt.ylim(15, 60)"
   ]
  },
  {
   "cell_type": "markdown",
   "metadata": {},
   "source": [
    "# Analyze available labs"
   ]
  },
  {
   "cell_type": "markdown",
   "metadata": {},
   "source": [
    "Subselect features to use."
   ]
  },
  {
   "cell_type": "code",
   "execution_count": null,
   "metadata": {},
   "outputs": [],
   "source": [
    "from FeatureAnalysis.analysis.eclat import eclat\n",
    "from FeatureAnalysis.analysis.rendering import buildGraph"
   ]
  },
  {
   "cell_type": "code",
   "execution_count": null,
   "metadata": {},
   "outputs": [],
   "source": [
    "missing_data = labs.groupby('Patient').count()\n",
    "missing_data[missing_data <= 0] = np.nan\n",
    "missing_data[0 < missing_data] = 1"
   ]
  },
  {
   "cell_type": "code",
   "execution_count": null,
   "metadata": {},
   "outputs": [],
   "source": [
    "missing_data"
   ]
  },
  {
   "cell_type": "code",
   "execution_count": null,
   "metadata": {},
   "outputs": [],
   "source": [
    "features = eclat(missing_data, minCount = 80000)\n",
    "print(features)\n",
    "buildGraph(features, mainBranch = True).render('examples/small')"
   ]
  },
  {
   "cell_type": "code",
   "execution_count": null,
   "metadata": {},
   "outputs": [],
   "source": [
    "def next_feature(node):\n",
    "    if len(node.children) == 0:\n",
    "        return [node.name]\n",
    "    return [node.name] + next_feature(node.children[0])"
   ]
  },
  {
   "cell_type": "code",
   "execution_count": null,
   "metadata": {},
   "outputs": [],
   "source": [
    "# Remove patients with no values\n",
    "selection = labs[next_feature(features.children[0])][next_feature(features.children[0])]\n",
    "selection = (selection.groupby('Patient').count() == 0).sum(1) == 0\n",
    "selection = selection.index[selection]"
   ]
  },
  {
   "cell_type": "code",
   "execution_count": null,
   "metadata": {},
   "outputs": [],
   "source": [
    "labs[labs.index.get_level_values('Patient').isin(selection)][next_feature(features.children[0])]"
   ]
  },
  {
   "cell_type": "code",
   "execution_count": null,
   "metadata": {},
   "outputs": [],
   "source": [
    "labs_subselection = labs[labs.index.get_level_values('Patient').isin(selection)][next_feature(features.children[0])].dropna(how = 'all')\n",
    "outcomes_subselection = outcomes[outcomes.index.get_level_values('Patient').isin(labs_subselection.index.get_level_values('Patient'))]"
   ]
  },
  {
   "cell_type": "code",
   "execution_count": null,
   "metadata": {},
   "outputs": [],
   "source": [
    "outcomes_subselection"
   ]
  },
  {
   "cell_type": "code",
   "execution_count": null,
   "metadata": {},
   "outputs": [],
   "source": [
    "# Update last observation time once removed potentially missing test\n",
    "outcomes_subselection['Remaining'] = (outcomes_subselection.Time.loc[labs_subselection.index.get_level_values(0)] - labs_subselection.index.get_level_values(1)).groupby('Patient').last()"
   ]
  },
  {
   "cell_type": "code",
   "execution_count": null,
   "metadata": {},
   "outputs": [],
   "source": [
    "# Save subsets patients and labs\n",
    "labs_subselection.to_csv('data/eicu/labs_first_day_subselection.csv')\n",
    "outcomes_subselection.to_csv('data/eicu/outcomes_first_day_subselection.csv')"
   ]
  },
  {
   "cell_type": "code",
   "execution_count": null,
   "metadata": {},
   "outputs": [],
   "source": []
  }
 ],
 "metadata": {
  "kernelspec": {
   "display_name": "survival",
   "language": "python",
   "name": "python3"
  },
  "language_info": {
   "codemirror_mode": {
    "name": "ipython",
    "version": 3
   },
   "file_extension": ".py",
   "mimetype": "text/x-python",
   "name": "python",
   "nbconvert_exporter": "python",
   "pygments_lexer": "ipython3",
   "version": "3.10.8"
  },
  "vscode": {
   "interpreter": {
    "hash": "f1b50223f39b64c0c24545f474e3e7d2d3b4b121fe045100fc03a3926bb649af"
   }
  }
 },
 "nbformat": 4,
 "nbformat_minor": 4
}
