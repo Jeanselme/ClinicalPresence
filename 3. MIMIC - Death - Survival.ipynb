{
 "cells": [
  {
   "cell_type": "markdown",
   "metadata": {},
   "source": [
    "The goal is to predict if the patient will survive from its stay. This script runs all experiments and save it in a format that allows further analysis."
   ]
  },
  {
   "cell_type": "code",
   "execution_count": null,
   "metadata": {},
   "outputs": [],
   "source": [
    "import pandas as pd\n",
    "import numpy as np"
   ]
  },
  {
   "cell_type": "code",
   "execution_count": null,
   "metadata": {},
   "outputs": [],
   "source": [
    "labs = pd.read_csv('data/mimic/labs_first_day_subselection.csv', index_col = [0, 1], header = [0])\n",
    "outcomes = pd.read_csv('data/mimic/outcomes_first_day_subselection.csv', index_col = 0)"
   ]
  },
  {
   "cell_type": "code",
   "execution_count": null,
   "metadata": {},
   "outputs": [],
   "source": [
    "outcomes['Death'] = ~outcomes.Death.isna()"
   ]
  },
  {
   "cell_type": "markdown",
   "metadata": {},
   "source": [
    "# Split "
   ]
  },
  {
   "cell_type": "code",
   "execution_count": null,
   "metadata": {},
   "outputs": [],
   "source": [
    "mode = \"random\" # \"random\", \"weekday\", \"weekend\"Split on date - Weekend vs weekdays "
   ]
  },
  {
   "cell_type": "code",
   "execution_count": null,
   "metadata": {},
   "outputs": [],
   "source": [
    "if mode == \"weekend\":\n",
    "    # Train only on weekends but test on both\n",
    "    training = outcomes.Day > 4\n",
    "    results = 'results/mimic/weekends/'\n",
    "    ratio = (1-training).sum() / training.sum() # Oversample\n",
    "elif mode == \"weekday\":\n",
    "    # Train only on weekends but test on both\n",
    "    training = outcomes.Day <= 4\n",
    "    results = 'results/mimic/weekdays/'\n",
    "    ratio = 0. # Do not oversample\n",
    "else:\n",
    "    # Random split\n",
    "    training = pd.Series(outcomes.index.isin(outcomes.sample(frac = 0.8, random_state = 0).index), index = outcomes.index)\n",
    "    results = 'results/mimic/random/'\n",
    "    ratio = 0. # Do not oversample\n",
    "results += 'survival_'"
   ]
  },
  {
   "cell_type": "code",
   "execution_count": null,
   "metadata": {},
   "outputs": [],
   "source": [
    "test = True"
   ]
  },
  {
   "cell_type": "code",
   "execution_count": null,
   "metadata": {},
   "outputs": [],
   "source": [
    "if test:\n",
    "    outcomes = outcomes.iloc[:500]\n",
    "    labs = labs[labs.index.get_level_values(0).isin(outcomes.index)]\n",
    "    training = training[training.index.isin(outcomes.index)]"
   ]
  },
  {
   "cell_type": "code",
   "execution_count": null,
   "metadata": {},
   "outputs": [],
   "source": [
    "print('Total patients: {}'.format(len(training)))\n",
    "print('Training patients: {}'.format(training.sum()))"
   ]
  },
  {
   "cell_type": "markdown",
   "metadata": {},
   "source": [
    "# Models"
   ]
  },
  {
   "cell_type": "code",
   "execution_count": null,
   "metadata": {},
   "outputs": [],
   "source": [
    "from experiment import ShiftExperiment"
   ]
  },
  {
   "cell_type": "code",
   "execution_count": null,
   "metadata": {},
   "outputs": [],
   "source": [
    "def process(data, labels):\n",
    "    \"\"\"\n",
    "        Extracts mask and interevents\n",
    "        Preprocesses the time of event and event\n",
    "    \"\"\"\n",
    "    cov = data.copy().astype(float)\n",
    "    cov = cov.groupby('Patient').ffill() # Forward last value\n",
    "    \n",
    "    patient_mean = data.astype(float).groupby('Patient').mean()\n",
    "    cov.fillna(patient_mean, inplace=True) # Impute by patient mean\n",
    "\n",
    "    pop_mean = patient_mean.mean()\n",
    "    cov.fillna(pop_mean, inplace=True) # Impute by population mean => There is at least one value otherwise test wouldn't be in dataset\n",
    "\n",
    "    ie_time = data.groupby(\"Patient\").apply(lambda x: x.index.get_level_values('Time').to_series().diff().fillna(0))\n",
    "    mask = ~data.isna() # 0 if not observed\n",
    "    time_event = pd.DataFrame((labels.LOS.loc[data.index.get_level_values(0)] - data.index.get_level_values(1)).values, index = data.index)\n",
    "\n",
    "    return cov, ie_time, mask, time_event, labels.Death"
   ]
  },
  {
   "cell_type": "markdown",
   "metadata": {},
   "source": [
    "### DeepSurv"
   ]
  },
  {
   "cell_type": "code",
   "execution_count": null,
   "metadata": {},
   "outputs": [],
   "source": [
    "layers = [[], [50], [50, 50], [50, 50, 50]]"
   ]
  },
  {
   "cell_type": "markdown",
   "metadata": {},
   "source": [
    "As a baseline, we build a DeepSurv on the last carried forward observations"
   ]
  },
  {
   "cell_type": "markdown",
   "metadata": {},
   "source": [
    "##### Last Carried Forward"
   ]
  },
  {
   "cell_type": "code",
   "execution_count": null,
   "metadata": {},
   "outputs": [],
   "source": [
    "last = labs.groupby('Patient').ffill().groupby('Patient').last().fillna(labs.groupby('Patient').mean().mean()) # Impute if last is na by population mean"
   ]
  },
  {
   "cell_type": "code",
   "execution_count": null,
   "metadata": {},
   "outputs": [],
   "source": [
    "se = ShiftExperiment.create(model = 'deepsurv', \n",
    "                     hyper_grid = {\"survival_args\": [{\"layers\": l} for l in layers],\n",
    "                        \"lr\" : [1e-3, 1e-4],\n",
    "                        \"batch\": [100, 250]\n",
    "                     }, \n",
    "                     path = results + 'deepsurv_last', force = test, save = not(test))"
   ]
  },
  {
   "cell_type": "code",
   "execution_count": null,
   "metadata": {},
   "outputs": [],
   "source": [
    "se.train(last, outcomes.Remaining, outcomes.Death, training, oversampling_ratio = ratio)"
   ]
  },
  {
   "cell_type": "markdown",
   "metadata": {},
   "source": [
    "##### Count"
   ]
  },
  {
   "cell_type": "code",
   "execution_count": null,
   "metadata": {},
   "outputs": [],
   "source": [
    "last = labs.groupby('Patient').ffill().groupby('Patient').last().fillna(labs.groupby('Patient').mean().mean()) # Impute if last is na by population mean\n",
    "count = (~labs.isna()).groupby('Patient').sum() # Compute counts"
   ]
  },
  {
   "cell_type": "code",
   "execution_count": null,
   "metadata": {},
   "outputs": [],
   "source": [
    "se = ShiftExperiment.create(model = 'deepsurv', \n",
    "                     hyper_grid = {\"survival_args\": [{\"layers\": l} for l in layers],\n",
    "                        \"lr\" : [1e-3, 1e-4],\n",
    "                        \"batch\": [100, 250]\n",
    "                     }, \n",
    "                     path = results + 'deepsurv_count', force = test, save = not(test))"
   ]
  },
  {
   "cell_type": "code",
   "execution_count": null,
   "metadata": {},
   "outputs": [],
   "source": [
    "se.train(pd.concat([last, count], axis = 1), outcomes.Remaining, outcomes.Death, training, oversampling_ratio = ratio)"
   ]
  },
  {
   "cell_type": "markdown",
   "metadata": {},
   "source": [
    "## LSTM"
   ]
  },
  {
   "cell_type": "code",
   "execution_count": null,
   "metadata": {},
   "outputs": [],
   "source": [
    "hyper_grid = {\n",
    "        \"layers\": [1, 2, 3],\n",
    "        \"hidden\": [10, 30],\n",
    "        \"survival_args\": [{\"layers\": l} for l in layers],\n",
    "\n",
    "        \"lr\" : [0.01],\n",
    "        \"batch\": [100, 250]\n",
    "    }"
   ]
  },
  {
   "cell_type": "markdown",
   "metadata": {},
   "source": [
    "#### Value data only"
   ]
  },
  {
   "cell_type": "markdown",
   "metadata": {},
   "source": [
    "Replace missing data and use time to predict"
   ]
  },
  {
   "cell_type": "code",
   "execution_count": null,
   "metadata": {},
   "outputs": [],
   "source": [
    "cov, ie, mask, time, event = process(labs.copy(), outcomes)"
   ]
  },
  {
   "cell_type": "code",
   "execution_count": null,
   "metadata": {},
   "outputs": [],
   "source": [
    "se = ShiftExperiment.create(model = 'joint', \n",
    "                     hyper_grid = hyper_grid,\n",
    "                     path = results + 'lstm_value', force = test, save = not(test), n_iter = 12)"
   ]
  },
  {
   "cell_type": "code",
   "execution_count": null,
   "metadata": {},
   "outputs": [],
   "source": [
    "se.train(cov, time, event, training, ie, mask, oversampling_ratio = 0.)"
   ]
  },
  {
   "cell_type": "markdown",
   "metadata": {},
   "source": [
    "#### Values and time and mask"
   ]
  },
  {
   "cell_type": "code",
   "execution_count": null,
   "metadata": {},
   "outputs": [],
   "source": [
    "labs_selection = pd.concat([labs.copy(), labs.isna().add_suffix('_mask').astype(float)], axis = 1)\n",
    "labs_selection['Time'] = labs_selection.index.to_frame().reset_index(drop = True).groupby('Patient').diff().fillna(0).values\n",
    "cov, ie, mask, time, event = process(labs_selection, outcomes)"
   ]
  },
  {
   "cell_type": "code",
   "execution_count": null,
   "metadata": {},
   "outputs": [],
   "source": [
    "se = ShiftExperiment.create(model = 'joint', \n",
    "                     hyper_grid = hyper_grid,\n",
    "                     path = results + 'lstm_value+time+mask')"
   ]
  },
  {
   "cell_type": "code",
   "execution_count": null,
   "metadata": {},
   "outputs": [],
   "source": [
    "se.train(cov, time, event, training, ie, mask, oversampling_ratio = ratio)"
   ]
  },
  {
   "cell_type": "markdown",
   "metadata": {},
   "source": [
    "#### Values resampled"
   ]
  },
  {
   "cell_type": "code",
   "execution_count": null,
   "metadata": {},
   "outputs": [],
   "source": [
    "labs_resample = labs.copy()\n",
    "labs_resample = labs_resample.set_index(pd.to_datetime(labs_resample.index.get_level_values('Time'), unit = 'D'), append = True) # Add time index\n",
    "labs_resample = labs_resample.groupby('Patient').resample('1H', level = 2).mean() # Mean resampling\n",
    "labs_resample.index = labs_resample.index.map(lambda x: (x[0], x[1].hour / 24)) # Reupdate index and match other data \n",
    "\n",
    "cov, ie, mask, time, event = process(labs_resample, outcomes) # Time is slightly different in that case as the last hour is rounded"
   ]
  },
  {
   "cell_type": "code",
   "execution_count": null,
   "metadata": {},
   "outputs": [],
   "source": [
    "se = ShiftExperiment.create(model = 'joint', \n",
    "                     hyper_grid = hyper_grid,\n",
    "                     path = results + 'lstm+resampled')"
   ]
  },
  {
   "cell_type": "code",
   "execution_count": null,
   "metadata": {},
   "outputs": [],
   "source": [
    "se.train(cov, time, event, training, ie, mask, oversampling_ratio = ratio)"
   ]
  },
  {
   "cell_type": "markdown",
   "metadata": {},
   "source": [
    "### GRU - D"
   ]
  },
  {
   "cell_type": "code",
   "execution_count": null,
   "metadata": {},
   "outputs": [],
   "source": [
    "hyper_grid_gru = hyper_grid.copy()\n",
    "hyper_grid_gru[\"typ\"] = ['GRUD']"
   ]
  },
  {
   "cell_type": "code",
   "execution_count": null,
   "metadata": {},
   "outputs": [],
   "source": [
    "labs_selection = pd.concat([labs.copy(), labs.isna().add_suffix('_mask').astype(float)], axis = 1)\n",
    "cov, ie, mask, time, event = process(labs_selection, outcomes)"
   ]
  },
  {
   "cell_type": "code",
   "execution_count": null,
   "metadata": {
    "scrolled": true
   },
   "outputs": [],
   "source": [
    "se = ShiftExperiment.create(model = 'joint', \n",
    "                     hyper_grid = hyper_grid_gru,\n",
    "                     path = results + 'gru_d+mask')"
   ]
  },
  {
   "cell_type": "code",
   "execution_count": null,
   "metadata": {},
   "outputs": [],
   "source": [
    "se.train(cov, time, event, training, ie, mask, oversampling_ratio = ratio)"
   ]
  },
  {
   "cell_type": "markdown",
   "metadata": {},
   "source": [
    "### Latent ODE"
   ]
  },
  {
   "cell_type": "code",
   "execution_count": null,
   "metadata": {},
   "outputs": [],
   "source": [
    "hyper_grid_ode = hyper_grid.copy()\n",
    "hyper_grid_ode[\"typ\"] = ['ODE']"
   ]
  },
  {
   "cell_type": "code",
   "execution_count": null,
   "metadata": {},
   "outputs": [],
   "source": [
    "se = ShiftExperiment.create(model = 'joint', \n",
    "                     hyper_grid = hyper_grid_ode,\n",
    "                     path = results + 'ode')"
   ]
  },
  {
   "cell_type": "code",
   "execution_count": null,
   "metadata": {},
   "outputs": [],
   "source": [
    "se.train(cov, time, event, training, ie, mask, oversampling_ratio = ratio)"
   ]
  },
  {
   "cell_type": "markdown",
   "metadata": {},
   "source": [
    "# Proposed approach"
   ]
  },
  {
   "cell_type": "code",
   "execution_count": null,
   "metadata": {},
   "outputs": [],
   "source": [
    "hyper_grid_joint = hyper_grid.copy()\n",
    "hyper_grid_joint.update(\n",
    "    {\n",
    "        \"weight\": [0.1, 0.5],\n",
    "        \"temporal\": [\"point\"], \n",
    "        \"temporal_args\": [{\"layers\": l} for l in layers],\n",
    "        \"longitudinal\": [\"neural\"], \n",
    "        \"longitudinal_args\": [{\"layers\": l} for l in layers],\n",
    "        \"missing\": [\"neural\"], \n",
    "        \"missing_args\": [{\"layers\": l} for l in layers],\n",
    "    }\n",
    ")"
   ]
  },
  {
   "cell_type": "markdown",
   "metadata": {},
   "source": [
    "### Joint model on value only"
   ]
  },
  {
   "cell_type": "code",
   "execution_count": null,
   "metadata": {},
   "outputs": [],
   "source": [
    "labs_selection = labs.copy()\n",
    "cov, ie, mask, time, event = process(labs_selection, outcomes)"
   ]
  },
  {
   "cell_type": "code",
   "execution_count": null,
   "metadata": {},
   "outputs": [],
   "source": [
    "se = ShiftExperiment.create(model = 'joint', \n",
    "                     hyper_grid = hyper_grid_joint,\n",
    "                     path = results + 'joint+value', save = False, force = True)"
   ]
  },
  {
   "cell_type": "code",
   "execution_count": null,
   "metadata": {},
   "outputs": [],
   "source": [
    "se.train(cov, time, event, training, ie, mask, oversampling_ratio = ratio)"
   ]
  },
  {
   "cell_type": "code",
   "execution_count": null,
   "metadata": {},
   "outputs": [],
   "source": [
    "se.train(cov, time, event, training, ie, mask, oversampling_ratio = ratio)"
   ]
  },
  {
   "cell_type": "markdown",
   "metadata": {},
   "source": [
    "### Joint model on value, mask and time"
   ]
  },
  {
   "cell_type": "code",
   "execution_count": null,
   "metadata": {},
   "outputs": [],
   "source": [
    "labs_selection = pd.concat([labs.copy(), labs.isna().add_suffix('_mask').astype(float)], 1)\n",
    "labs_selection['Time'] = labs_selection.index.to_frame().reset_index(drop = True).groupby('Patient').diff().fillna(0).values\n",
    "cov, ie, mask, time, event = process(labs_selection, outcomes)"
   ]
  },
  {
   "cell_type": "code",
   "execution_count": null,
   "metadata": {},
   "outputs": [],
   "source": [
    "mask_mixture = np.full(len(cov.columns), False)\n",
    "mask_mixture[:len(labs.columns)] = True\n",
    "\n",
    "hyper_grid_joint['mixture_mask'] = [mask_mixture] # Avoids to compute the observational process on the additional dimensions"
   ]
  },
  {
   "cell_type": "code",
   "execution_count": null,
   "metadata": {},
   "outputs": [],
   "source": [
    "se = ShiftExperiment.create(model = 'joint', \n",
    "                     hyper_grid = hyper_grid_joint,\n",
    "                     path = results + 'joint_value+time+mask')"
   ]
  },
  {
   "cell_type": "code",
   "execution_count": null,
   "metadata": {},
   "outputs": [],
   "source": [
    "se.train(cov, time, event, training, ie, mask, oversampling_ratio = ratio)"
   ]
  },
  {
   "cell_type": "markdown",
   "metadata": {},
   "source": [
    "### Full fine tuning of the network"
   ]
  },
  {
   "cell_type": "code",
   "execution_count": null,
   "metadata": {},
   "outputs": [],
   "source": [
    "hyper_grid_joint['full_finetune'] = [True] \n"
   ]
  },
  {
   "cell_type": "code",
   "execution_count": null,
   "metadata": {},
   "outputs": [],
   "source": [
    "se = ShiftExperiment.create(model = 'joint', \n",
    "                     hyper_grid = hyper_grid_joint,\n",
    "                     path = results + 'joint_full_finetune_value+time+mask')"
   ]
  },
  {
   "cell_type": "code",
   "execution_count": null,
   "metadata": {},
   "outputs": [],
   "source": [
    "se.train(cov, time, event, training, ie, mask, oversampling_ratio = ratio)"
   ]
  }
 ],
 "metadata": {
  "interpreter": {
   "hash": "a54f3b3a447186e9a4a83057d2abe8df010acd7b8f131225203d307ef84eba48"
  },
  "kernelspec": {
   "display_name": "Python 3.9.7 64-bit ('Jupyter': conda)",
   "name": "python3"
  },
  "language_info": {
   "codemirror_mode": {
    "name": "ipython",
    "version": 3
   },
   "file_extension": ".py",
   "mimetype": "text/x-python",
   "name": "python",
   "nbconvert_exporter": "python",
   "pygments_lexer": "ipython3",
   "version": "3.9.7"
  }
 },
 "nbformat": 4,
 "nbformat_minor": 4
}
